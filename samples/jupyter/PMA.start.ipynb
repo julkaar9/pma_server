{
 "cells": [
  {
   "cell_type": "markdown",
   "metadata": {},
   "source": [
    "# Setup\n",
    "Use pip to download and install the necessary libraries if needed"
   ]
  },
  {
   "cell_type": "code",
   "execution_count": 1,
   "metadata": {},
   "outputs": [
    {
     "name": "stderr",
     "output_type": "stream",
     "text": [
      "ERROR: Could not find a version that satisfies the requirement pprint (from versions: none)\n",
      "ERROR: No matching distribution found for pprint\n"
     ]
    }
   ],
   "source": [
    "# !pip install --upgrade pma_python\n",
    "!pip install --upgrade pprint"
   ]
  },
  {
   "cell_type": "code",
   "execution_count": 2,
   "metadata": {},
   "outputs": [
    {
     "name": "stdout",
     "output_type": "stream",
     "text": [
      "pma_python library loaded; version 2.0.0.177\n",
      "PMA.start detected successfully\n",
      "Connected to PMA.start\n"
     ]
    }
   ],
   "source": [
    "#\n",
    "# helper libraries\n",
    "#\n",
    "# import pprint as pp    # pretty print library is better to print list and dictionary structures\n",
    "import os\n",
    "import  matplotlib.pyplot as plt\n",
    "import numpy as np\n",
    "from PIL import Image\n",
    "import pandas as pd\n",
    "\n",
    "#\n",
    "# pma_python library\n",
    "#\n",
    "from pma_python import core\n",
    "print(\"pma_python library loaded; version\", core.__version__)\n",
    "\n",
    "# connection parameters to be used throughout this notebook\n",
    "pma_start_slide_dir = \"C:/wsi\"\n",
    "\n",
    "if core.is_lite():\n",
    "    print (\"Connected to PMA.start\")\n",
    "else:\n",
    "    raise Exception(\"Unable to detect PMA.start! Please start PMA.start, or download it from http://free.pathomation.com\")"
   ]
  },
  {
   "cell_type": "code",
   "execution_count": 3,
   "metadata": {},
   "outputs": [
    {
     "name": "stdout",
     "output_type": "stream",
     "text": [
      "Debug flag enabled. You will receive extra feedback and messages from pma_python (like this one)\n"
     ]
    }
   ],
   "source": [
    "# only needed when debugging code for extra error messages:\n",
    "core.set_debug_flag(True)"
   ]
  },
  {
   "cell_type": "code",
   "execution_count": 4,
   "metadata": {},
   "outputs": [
    {
     "name": "stdout",
     "output_type": "stream",
     "text": [
      "dict_keys([])\n"
     ]
    }
   ],
   "source": [
    "print(core._pma_slideinfos.keys())"
   ]
  },
  {
   "cell_type": "markdown",
   "metadata": {},
   "source": [
    "# PMA.start examples\n",
    "example 10: identifying PMA.start"
   ]
  },
  {
   "cell_type": "code",
   "execution_count": 6,
   "metadata": {},
   "outputs": [
    {
     "name": "stdout",
     "output_type": "stream",
     "text": [
      "PMA.start detected successfully\n",
      "Are you running PMA.start? True\n"
     ]
    }
   ],
   "source": [
    "# are you running PMA.start on localhost?\n",
    "print(\"Are you running PMA.start? \" + str(core.is_lite()))\n",
    "\n",
    "# testing actual \"full\" PMA.core instance that's out there\n",
    "# pma_core_location = \"https://host.pathomation.com/sandbox/2/pma.core\"\n",
    "# print(\"Are you running PMA.start at \" + pma_core_location + \"? \" + str(core.is_lite(pma_core_location)))\n",
    "\n",
    "# testing against a non-existing end-point\n",
    "# pma_core_location = \"https://www.google.com\"\n",
    "# print(\"Are you running PMA.start at \" + pma_core_location + \"? \" + str(core.is_lite(pma_core_location)))"
   ]
  },
  {
   "cell_type": "markdown",
   "metadata": {},
   "source": [
    "example 20: getting version information about PMA.start"
   ]
  },
  {
   "cell_type": "code",
   "execution_count": 7,
   "metadata": {},
   "outputs": [
    {
     "name": "stdout",
     "output_type": "stream",
     "text": [
      "http://localhost:54001/api/json/GetVersionInfo\n",
      "You are running PMA.start version 2.1.1.2091\n"
     ]
    }
   ],
   "source": [
    "# assuming we have PMA.start running; what's the version number?\n",
    "print(\"You are running PMA.start version \" + core.get_version_info())"
   ]
  },
  {
   "cell_type": "code",
   "execution_count": 8,
   "metadata": {},
   "outputs": [
    {
     "name": "stdout",
     "output_type": "stream",
     "text": [
      "http://localhost:54001/api/json/GetAPIVersion\n"
     ]
    },
    {
     "data": {
      "text/plain": [
       "'1.1.0'"
      ]
     },
     "execution_count": 8,
     "metadata": {},
     "output_type": "execute_result"
    }
   ],
   "source": [
    "version = core.get_api_version()\n",
    "version"
   ]
  },
  {
   "cell_type": "code",
   "execution_count": 9,
   "metadata": {},
   "outputs": [
    {
     "name": "stdout",
     "output_type": "stream",
     "text": [
      "http://localhost:54001/api/json/GetAPIVersion\n"
     ]
    },
    {
     "data": {
      "text/plain": [
       "'1...1...0'"
      ]
     },
     "execution_count": 9,
     "metadata": {},
     "output_type": "execute_result"
    }
   ],
   "source": [
    "core.get_api_verion_string()"
   ]
  },
  {
   "cell_type": "markdown",
   "metadata": {},
   "source": [
    "example 30: connect to PMA.start"
   ]
  },
  {
   "cell_type": "code",
   "execution_count": 10,
   "metadata": {},
   "outputs": [
    {
     "name": "stdout",
     "output_type": "stream",
     "text": [
      "PMA.start detected successfully\n",
      "Successfully connected to PMA.start; sessionID =  SDK.Python\n"
     ]
    }
   ],
   "source": [
    "sessionID = core.connect()        # no parameters needed for PMA.start\n",
    "\n",
    "if (sessionID == None):\n",
    "\tprint(\"Unable to connect to PMA.start\");\n",
    "else:\n",
    "\tprint(\"Successfully connected to PMA.start; sessionID = \", sessionID)"
   ]
  },
  {
   "cell_type": "markdown",
   "metadata": {},
   "source": [
    "example 40: getting drive letters from PMA.start"
   ]
  },
  {
   "cell_type": "code",
   "execution_count": 27,
   "metadata": {},
   "outputs": [
    {
     "name": "stdout",
     "output_type": "stream",
     "text": [
      "You have the following drives in your system: \n",
      "Found SessionID: SDK.Python\n",
      "http://localhost:54001/api/json/GetRootDirectories?sessionID=SDK.Python\n"
     ]
    },
    {
     "data": {
      "text/plain": [
       "['C:']"
      ]
     },
     "execution_count": 27,
     "metadata": {},
     "output_type": "execute_result"
    }
   ],
   "source": [
    "print(\"You have the following drives in your system: \")\n",
    "rootdirs = core.get_root_directories()\n",
    "rootdirs"
   ]
  },
  {
   "cell_type": "markdown",
   "metadata": {},
   "source": [
    "example 60: getting directories PMA.start"
   ]
  },
  {
   "cell_type": "markdown",
   "metadata": {},
   "source": [
    "example 70: get first non empty directory PMA.start"
   ]
  },
  {
   "cell_type": "code",
   "execution_count": 28,
   "metadata": {},
   "outputs": [
    {
     "name": "stdout",
     "output_type": "stream",
     "text": [
      "Found SessionID: SDK.Python\n",
      "http://localhost:54001/api/json/GetRootDirectories?sessionID=SDK.Python\n",
      "Directories found in  C: :\n",
      "Found SessionID: SDK.Python\n",
      "http://localhost:54001/api/json/GetDirectories?sessionID=SDK.Python&path=C%3A\n"
     ]
    },
    {
     "data": {
      "text/plain": [
       "['C:/Config',\n",
       " 'C:/eSupport',\n",
       " 'C:/games',\n",
       " 'C:/MainSDK',\n",
       " 'C:/msys64',\n",
       " 'C:/opt',\n",
       " 'C:/PerfLogs',\n",
       " 'C:/Program Files',\n",
       " 'C:/Program Files (x86)',\n",
       " 'C:/src',\n",
       " 'C:/Users',\n",
       " 'C:/WIMAPPLY',\n",
       " 'C:/Windows',\n",
       " 'C:/wsi']"
      ]
     },
     "execution_count": 28,
     "metadata": {},
     "output_type": "execute_result"
    }
   ],
   "source": [
    "rootdirs = core.get_root_directories();\n",
    "print(\"Directories found in \", rootdirs[0],\":\")\n",
    "\n",
    "dirs = core.get_directories(rootdirs[0])\n",
    "dirs"
   ]
  },
  {
   "cell_type": "code",
   "execution_count": 29,
   "metadata": {},
   "outputs": [
    {
     "name": "stdout",
     "output_type": "stream",
     "text": [
      "Found SessionID: SDK.Python\n",
      "http://localhost:54001/api/json/GetFiles?sessionID=SDK.Python&path=\n",
      "Unable to examine /\n",
      "http://localhost:54001/api/json/GetRootDirectories?sessionID=SDK.Python\n",
      "http://localhost:54001/api/json/GetFiles?sessionID=SDK.Python&path=C%3A\n",
      "http://localhost:54001/api/json/GetDirectories?sessionID=SDK.Python&path=C%3A\n",
      "http://localhost:54001/api/json/GetFiles?sessionID=SDK.Python&path=C%3A%2FConfig\n",
      "http://localhost:54001/api/json/GetDirectories?sessionID=SDK.Python&path=C%3A%2FConfig\n",
      "http://localhost:54001/api/json/GetFiles?sessionID=SDK.Python&path=C%3A%2FeSupport\n",
      "http://localhost:54001/api/json/GetDirectories?sessionID=SDK.Python&path=C%3A%2FeSupport\n",
      "http://localhost:54001/api/json/GetFiles?sessionID=SDK.Python&path=C%3A%2FeSupport%2FeDriver\n",
      "http://localhost:54001/api/json/GetDirectories?sessionID=SDK.Python&path=C%3A%2FeSupport%2FeDriver\n",
      "http://localhost:54001/api/json/GetFiles?sessionID=SDK.Python&path=C%3A%2FeSupport%2FeDriver%2FLIB\n",
      "http://localhost:54001/api/json/GetDirectories?sessionID=SDK.Python&path=C%3A%2FeSupport%2FeDriver%2FLIB\n",
      "http://localhost:54001/api/json/GetFiles?sessionID=SDK.Python&path=C%3A%2FeSupport%2FeDriver%2FLIB%2FHighImage\n",
      "http://localhost:54001/api/json/GetDirectories?sessionID=SDK.Python&path=C%3A%2FeSupport%2FeDriver%2FLIB%2FHighImage\n",
      "http://localhost:54001/api/json/GetFiles?sessionID=SDK.Python&path=C%3A%2FeSupport%2FeDriver%2FLIB%2FImage\n",
      "http://localhost:54001/api/json/GetDirectories?sessionID=SDK.Python&path=C%3A%2FeSupport%2FeDriver%2FLIB%2FImage\n",
      "http://localhost:54001/api/json/GetFiles?sessionID=SDK.Python&path=C%3A%2FeSupport%2FeDriver%2FLIB%2FResources\n",
      "http://localhost:54001/api/json/GetDirectories?sessionID=SDK.Python&path=C%3A%2FeSupport%2FeDriver%2FLIB%2FResources\n",
      "http://localhost:54001/api/json/GetFiles?sessionID=SDK.Python&path=C%3A%2FeSupport%2FeDriver%2FSoftware\n",
      "http://localhost:54001/api/json/GetDirectories?sessionID=SDK.Python&path=C%3A%2FeSupport%2FeDriver%2FSoftware\n",
      "http://localhost:54001/api/json/GetFiles?sessionID=SDK.Python&path=C%3A%2FeSupport%2FeDriver%2FSoftware%2FComponent\n",
      "http://localhost:54001/api/json/GetDirectories?sessionID=SDK.Python&path=C%3A%2FeSupport%2FeDriver%2FSoftware%2FComponent\n",
      "http://localhost:54001/api/json/GetFiles?sessionID=SDK.Python&path=C%3A%2FeSupport%2FeDriver%2FSoftware%2FComponent%2FASUS\n",
      "http://localhost:54001/api/json/GetDirectories?sessionID=SDK.Python&path=C%3A%2FeSupport%2FeDriver%2FSoftware%2FComponent%2FASUS\n",
      "http://localhost:54001/api/json/GetFiles?sessionID=SDK.Python&path=C%3A%2FeSupport%2FeDriver%2FSoftware%2FComponent%2FASUS%2FArmouryCrate%20Config\n",
      "http://localhost:54001/api/json/GetDirectories?sessionID=SDK.Python&path=C%3A%2FeSupport%2FeDriver%2FSoftware%2FComponent%2FASUS%2FArmouryCrate%20Config\n",
      "http://localhost:54001/api/json/GetFiles?sessionID=SDK.Python&path=C%3A%2FeSupport%2FeDriver%2FSoftware%2FComponent%2FASUS%2FArmouryCrate%20Config%2F1.0.6\n",
      "http://localhost:54001/api/json/GetDirectories?sessionID=SDK.Python&path=C%3A%2FeSupport%2FeDriver%2FSoftware%2FComponent%2FASUS%2FArmouryCrate%20Config%2F1.0.6\n",
      "http://localhost:54001/api/json/GetFiles?sessionID=SDK.Python&path=C%3A%2FeSupport%2FeDriver%2FSoftware%2FComponent%2FASUS%2FArmouryCrate%20ICM%20Config\n",
      "http://localhost:54001/api/json/GetDirectories?sessionID=SDK.Python&path=C%3A%2FeSupport%2FeDriver%2FSoftware%2FComponent%2FASUS%2FArmouryCrate%20ICM%20Config\n",
      "http://localhost:54001/api/json/GetFiles?sessionID=SDK.Python&path=C%3A%2FeSupport%2FeDriver%2FSoftware%2FComponent%2FASUS%2FArmouryCrate%20ICM%20Config%2F1.3\n",
      "http://localhost:54001/api/json/GetDirectories?sessionID=SDK.Python&path=C%3A%2FeSupport%2FeDriver%2FSoftware%2FComponent%2FASUS%2FArmouryCrate%20ICM%20Config%2F1.3\n",
      "http://localhost:54001/api/json/GetFiles?sessionID=SDK.Python&path=C%3A%2FeSupport%2FeDriver%2FSoftware%2FComponent%2FASUS%2FRDX\n",
      "http://localhost:54001/api/json/GetDirectories?sessionID=SDK.Python&path=C%3A%2FeSupport%2FeDriver%2FSoftware%2FComponent%2FASUS%2FRDX\n",
      "http://localhost:54001/api/json/GetFiles?sessionID=SDK.Python&path=C%3A%2FeSupport%2FeDriver%2FSoftware%2FComponent%2FASUS%2FRDX%2F1.1\n",
      "http://localhost:54001/api/json/GetDirectories?sessionID=SDK.Python&path=C%3A%2FeSupport%2FeDriver%2FSoftware%2FComponent%2FASUS%2FRDX%2F1.1\n",
      "http://localhost:54001/api/json/GetFiles?sessionID=SDK.Python&path=C%3A%2FeSupport%2FeDriver%2FSoftware%2FComponent%2FASUS%2FROG%20Customized%20Wallpapers%20Config\n",
      "http://localhost:54001/api/json/GetDirectories?sessionID=SDK.Python&path=C%3A%2FeSupport%2FeDriver%2FSoftware%2FComponent%2FASUS%2FROG%20Customized%20Wallpapers%20Config\n",
      "http://localhost:54001/api/json/GetFiles?sessionID=SDK.Python&path=C%3A%2FeSupport%2FeDriver%2FSoftware%2FComponent%2FASUS%2FROG%20Customized%20Wallpapers%20Config%2F1.0.0\n",
      "http://localhost:54001/api/json/GetDirectories?sessionID=SDK.Python&path=C%3A%2FeSupport%2FeDriver%2FSoftware%2FComponent%2FASUS%2FROG%20Customized%20Wallpapers%20Config%2F1.0.0\n",
      "http://localhost:54001/api/json/GetFiles?sessionID=SDK.Python&path=C%3A%2FeSupport%2FeDriver%2FSoftware%2FComponent%2FASUS%2FWallpapers\n",
      "http://localhost:54001/api/json/GetDirectories?sessionID=SDK.Python&path=C%3A%2FeSupport%2FeDriver%2FSoftware%2FComponent%2FASUS%2FWallpapers\n",
      "http://localhost:54001/api/json/GetFiles?sessionID=SDK.Python&path=C%3A%2FeSupport%2FeDriver%2FSoftware%2FComponent%2FASUS%2FWallpapers%2F1.0.0\n",
      "http://localhost:54001/api/json/GetDirectories?sessionID=SDK.Python&path=C%3A%2FeSupport%2FeDriver%2FSoftware%2FComponent%2FASUS%2FWallpapers%2F1.0.0\n",
      "http://localhost:54001/api/json/GetFiles?sessionID=SDK.Python&path=C%3A%2FeSupport%2FeDriver%2FSoftware%2FDriver\n",
      "http://localhost:54001/api/json/GetDirectories?sessionID=SDK.Python&path=C%3A%2FeSupport%2FeDriver%2FSoftware%2FDriver\n",
      "http://localhost:54001/api/json/GetFiles?sessionID=SDK.Python&path=C%3A%2FeSupport%2FeDriver%2FSoftware%2FDriver%2FDCH\n",
      "http://localhost:54001/api/json/GetDirectories?sessionID=SDK.Python&path=C%3A%2FeSupport%2FeDriver%2FSoftware%2FDriver%2FDCH\n",
      "http://localhost:54001/api/json/GetFiles?sessionID=SDK.Python&path=C%3A%2FeSupport%2FeDriver%2FSoftware%2FDriver%2FDCH%2FOffline\n",
      "http://localhost:54001/api/json/GetDirectories?sessionID=SDK.Python&path=C%3A%2FeSupport%2FeDriver%2FSoftware%2FDriver%2FDCH%2FOffline\n",
      "http://localhost:54001/api/json/GetFiles?sessionID=SDK.Python&path=C%3A%2FeSupport%2FeDriver%2FSoftware%2FDriver%2FDCH%2FOffline%2FASUS\n",
      "http://localhost:54001/api/json/GetDirectories?sessionID=SDK.Python&path=C%3A%2FeSupport%2FeDriver%2FSoftware%2FDriver%2FDCH%2FOffline%2FASUS\n",
      "http://localhost:54001/api/json/GetFiles?sessionID=SDK.Python&path=C%3A%2FeSupport%2FeDriver%2FSoftware%2FDriver%2FDCH%2FOffline%2FASUS%2FASUS%20System%20Control%20Interface%20v3\n",
      "http://localhost:54001/api/json/GetDirectories?sessionID=SDK.Python&path=C%3A%2FeSupport%2FeDriver%2FSoftware%2FDriver%2FDCH%2FOffline%2FASUS%2FASUS%20System%20Control%20Interface%20v3\n",
      "http://localhost:54001/api/json/GetFiles?sessionID=SDK.Python&path=C%3A%2FeSupport%2FeDriver%2FSoftware%2FDriver%2FDCH%2FOffline%2FASUS%2FASUS%20System%20Control%20Interface%20v3%2F3.1.0.0\n",
      "http://localhost:54001/api/json/GetDirectories?sessionID=SDK.Python&path=C%3A%2FeSupport%2FeDriver%2FSoftware%2FDriver%2FDCH%2FOffline%2FASUS%2FASUS%20System%20Control%20Interface%20v3%2F3.1.0.0\n",
      "http://localhost:54001/api/json/GetFiles?sessionID=SDK.Python&path=C%3A%2FeSupport%2FeDriver%2FSoftware%2FDriver%2FDCH%2FOffline%2FASUS%2FASUS%20System%20Control%20Interface%20v3%2F3.1.0.0%2F13833\n",
      "http://localhost:54001/api/json/GetDirectories?sessionID=SDK.Python&path=C%3A%2FeSupport%2FeDriver%2FSoftware%2FDriver%2FDCH%2FOffline%2FASUS%2FASUS%20System%20Control%20Interface%20v3%2F3.1.0.0%2F13833\n",
      "http://localhost:54001/api/json/GetFiles?sessionID=SDK.Python&path=C%3A%2FeSupport%2FeDriver%2FSoftware%2FDriver%2FDCH%2FOffline%2FASUS%2FASUS%20System%20Control%20Interface%20v3%2F3.1.0.0%2F13833%2FAsusAppService\n",
      "http://localhost:54001/api/json/GetDirectories?sessionID=SDK.Python&path=C%3A%2FeSupport%2FeDriver%2FSoftware%2FDriver%2FDCH%2FOffline%2FASUS%2FASUS%20System%20Control%20Interface%20v3%2F3.1.0.0%2F13833%2FAsusAppService\n",
      "http://localhost:54001/api/json/GetFiles?sessionID=SDK.Python&path=C%3A%2FeSupport%2FeDriver%2FSoftware%2FDriver%2FDCH%2FOffline%2FASUS%2FASUS%20System%20Control%20Interface%20v3%2F3.1.0.0%2F13833%2FAsusLinkNear\n",
      "http://localhost:54001/api/json/GetDirectories?sessionID=SDK.Python&path=C%3A%2FeSupport%2FeDriver%2FSoftware%2FDriver%2FDCH%2FOffline%2FASUS%2FASUS%20System%20Control%20Interface%20v3%2F3.1.0.0%2F13833%2FAsusLinkNear\n",
      "http://localhost:54001/api/json/GetFiles?sessionID=SDK.Python&path=C%3A%2FeSupport%2FeDriver%2FSoftware%2FDriver%2FDCH%2FOffline%2FASUS%2FASUS%20System%20Control%20Interface%20v3%2F3.1.0.0%2F13833%2FASUSLinkRemote\n",
      "http://localhost:54001/api/json/GetDirectories?sessionID=SDK.Python&path=C%3A%2FeSupport%2FeDriver%2FSoftware%2FDriver%2FDCH%2FOffline%2FASUS%2FASUS%20System%20Control%20Interface%20v3%2F3.1.0.0%2F13833%2FASUSLinkRemote\n",
      "http://localhost:54001/api/json/GetFiles?sessionID=SDK.Python&path=C%3A%2FeSupport%2FeDriver%2FSoftware%2FDriver%2FDCH%2FOffline%2FASUS%2FASUS%20System%20Control%20Interface%20v3%2F3.1.0.0%2F13833%2FASUSLinkRemoteLicense\n"
     ]
    },
    {
     "name": "stdout",
     "output_type": "stream",
     "text": [
      "http://localhost:54001/api/json/GetDirectories?sessionID=SDK.Python&path=C%3A%2FeSupport%2FeDriver%2FSoftware%2FDriver%2FDCH%2FOffline%2FASUS%2FASUS%20System%20Control%20Interface%20v3%2F3.1.0.0%2F13833%2FASUSLinkRemoteLicense\n",
      "http://localhost:54001/api/json/GetFiles?sessionID=SDK.Python&path=C%3A%2FeSupport%2FeDriver%2FSoftware%2FDriver%2FDCH%2FOffline%2FASUS%2FASUS%20System%20Control%20Interface%20v3%2F3.1.0.0%2F13833%2FAsusOptimization\n",
      "http://localhost:54001/api/json/GetDirectories?sessionID=SDK.Python&path=C%3A%2FeSupport%2FeDriver%2FSoftware%2FDriver%2FDCH%2FOffline%2FASUS%2FASUS%20System%20Control%20Interface%20v3%2F3.1.0.0%2F13833%2FAsusOptimization\n",
      "http://localhost:54001/api/json/GetFiles?sessionID=SDK.Python&path=C%3A%2FeSupport%2FeDriver%2FSoftware%2FDriver%2FDCH%2FOffline%2FASUS%2FASUS%20System%20Control%20Interface%20v3%2F3.1.0.0%2F13833%2FAsusSoftwareManager\n",
      "http://localhost:54001/api/json/GetDirectories?sessionID=SDK.Python&path=C%3A%2FeSupport%2FeDriver%2FSoftware%2FDriver%2FDCH%2FOffline%2FASUS%2FASUS%20System%20Control%20Interface%20v3%2F3.1.0.0%2F13833%2FAsusSoftwareManager\n",
      "http://localhost:54001/api/json/GetFiles?sessionID=SDK.Python&path=C%3A%2FeSupport%2FeDriver%2FSoftware%2FDriver%2FDCH%2FOffline%2FASUS%2FASUS%20System%20Control%20Interface%20v3%2F3.1.0.0%2F13833%2FAsusSoftwareManagerLicense\n",
      "http://localhost:54001/api/json/GetDirectories?sessionID=SDK.Python&path=C%3A%2FeSupport%2FeDriver%2FSoftware%2FDriver%2FDCH%2FOffline%2FASUS%2FASUS%20System%20Control%20Interface%20v3%2F3.1.0.0%2F13833%2FAsusSoftwareManagerLicense\n",
      "http://localhost:54001/api/json/GetFiles?sessionID=SDK.Python&path=C%3A%2FeSupport%2FeDriver%2FSoftware%2FDriver%2FDCH%2FOffline%2FASUS%2FASUS%20System%20Control%20Interface%20v3%2F3.1.0.0%2F13833%2FAsusSwitch\n",
      "http://localhost:54001/api/json/GetDirectories?sessionID=SDK.Python&path=C%3A%2FeSupport%2FeDriver%2FSoftware%2FDriver%2FDCH%2FOffline%2FASUS%2FASUS%20System%20Control%20Interface%20v3%2F3.1.0.0%2F13833%2FAsusSwitch\n",
      "http://localhost:54001/api/json/GetFiles?sessionID=SDK.Python&path=C%3A%2FeSupport%2FeDriver%2FSoftware%2FDriver%2FDCH%2FOffline%2FASUS%2FASUS%20System%20Control%20Interface%20v3%2F3.1.0.0%2F13833%2FAsusSystemAnalysis\n",
      "http://localhost:54001/api/json/GetDirectories?sessionID=SDK.Python&path=C%3A%2FeSupport%2FeDriver%2FSoftware%2FDriver%2FDCH%2FOffline%2FASUS%2FASUS%20System%20Control%20Interface%20v3%2F3.1.0.0%2F13833%2FAsusSystemAnalysis\n",
      "http://localhost:54001/api/json/GetFiles?sessionID=SDK.Python&path=C%3A%2FeSupport%2FeDriver%2FSoftware%2FDriver%2FDCH%2FOffline%2FASUS%2FASUS%20System%20Control%20Interface%20v3%2F3.1.0.0%2F13833%2FAsusSystemAnalysisLicense\n",
      "http://localhost:54001/api/json/GetDirectories?sessionID=SDK.Python&path=C%3A%2FeSupport%2FeDriver%2FSoftware%2FDriver%2FDCH%2FOffline%2FASUS%2FASUS%20System%20Control%20Interface%20v3%2F3.1.0.0%2F13833%2FAsusSystemAnalysisLicense\n",
      "http://localhost:54001/api/json/GetFiles?sessionID=SDK.Python&path=C%3A%2FeSupport%2FeDriver%2FSoftware%2FDriver%2FDCH%2FOffline%2FASUS%2FASUS%20System%20Control%20Interface%20v3%2F3.1.0.0%2F13833%2FAsusSystemDiagnosis\n",
      "http://localhost:54001/api/json/GetDirectories?sessionID=SDK.Python&path=C%3A%2FeSupport%2FeDriver%2FSoftware%2FDriver%2FDCH%2FOffline%2FASUS%2FASUS%20System%20Control%20Interface%20v3%2F3.1.0.0%2F13833%2FAsusSystemDiagnosis\n",
      "http://localhost:54001/api/json/GetFiles?sessionID=SDK.Python&path=C%3A%2FeSupport%2FeDriver%2FSoftware%2FDriver%2FDCH%2FOffline%2FASUS%2FWireless%20radio%20control%20driver\n",
      "http://localhost:54001/api/json/GetDirectories?sessionID=SDK.Python&path=C%3A%2FeSupport%2FeDriver%2FSoftware%2FDriver%2FDCH%2FOffline%2FASUS%2FWireless%20radio%20control%20driver\n",
      "http://localhost:54001/api/json/GetFiles?sessionID=SDK.Python&path=C%3A%2FeSupport%2FeDriver%2FSoftware%2FDriver%2FDCH%2FOffline%2FASUS%2FWireless%20radio%20control%20driver%2F1.0.0.14\n",
      "http://localhost:54001/api/json/GetDirectories?sessionID=SDK.Python&path=C%3A%2FeSupport%2FeDriver%2FSoftware%2FDriver%2FDCH%2FOffline%2FASUS%2FWireless%20radio%20control%20driver%2F1.0.0.14\n",
      "http://localhost:54001/api/json/GetFiles?sessionID=SDK.Python&path=C%3A%2FeSupport%2FeDriver%2FSoftware%2FDriver%2FDCH%2FOffline%2FASUS%2FWireless%20radio%20control%20driver%2F1.0.0.14%2F13413\n",
      "http://localhost:54001/api/json/GetDirectories?sessionID=SDK.Python&path=C%3A%2FeSupport%2FeDriver%2FSoftware%2FDriver%2FDCH%2FOffline%2FASUS%2FWireless%20radio%20control%20driver%2F1.0.0.14%2F13413\n",
      "http://localhost:54001/api/json/GetFiles?sessionID=SDK.Python&path=C%3A%2FeSupport%2FeDriver%2FSoftware%2FDriver%2FDCH%2FOffline%2FAudio\n",
      "http://localhost:54001/api/json/GetDirectories?sessionID=SDK.Python&path=C%3A%2FeSupport%2FeDriver%2FSoftware%2FDriver%2FDCH%2FOffline%2FAudio\n",
      "http://localhost:54001/api/json/GetFiles?sessionID=SDK.Python&path=C%3A%2FeSupport%2FeDriver%2FSoftware%2FDriver%2FDCH%2FOffline%2FAudio%2FRealtek\n",
      "http://localhost:54001/api/json/GetDirectories?sessionID=SDK.Python&path=C%3A%2FeSupport%2FeDriver%2FSoftware%2FDriver%2FDCH%2FOffline%2FAudio%2FRealtek\n",
      "http://localhost:54001/api/json/GetFiles?sessionID=SDK.Python&path=C%3A%2FeSupport%2FeDriver%2FSoftware%2FDriver%2FDCH%2FOffline%2FAudio%2FRealtek%2FAudio_DTS_ROG\n",
      "http://localhost:54001/api/json/GetDirectories?sessionID=SDK.Python&path=C%3A%2FeSupport%2FeDriver%2FSoftware%2FDriver%2FDCH%2FOffline%2FAudio%2FRealtek%2FAudio_DTS_ROG\n",
      "http://localhost:54001/api/json/GetFiles?sessionID=SDK.Python&path=C%3A%2FeSupport%2FeDriver%2FSoftware%2FDriver%2FDCH%2FOffline%2FAudio%2FRealtek%2FAudio_DTS_ROG%2F6.0.9239.1\n",
      "http://localhost:54001/api/json/GetDirectories?sessionID=SDK.Python&path=C%3A%2FeSupport%2FeDriver%2FSoftware%2FDriver%2FDCH%2FOffline%2FAudio%2FRealtek%2FAudio_DTS_ROG%2F6.0.9239.1\n",
      "http://localhost:54001/api/json/GetFiles?sessionID=SDK.Python&path=C%3A%2FeSupport%2FeDriver%2FSoftware%2FDriver%2FDCH%2FOffline%2FAudio%2FRealtek%2FAudio_DTS_ROG%2F6.0.9239.1%2F25454\n",
      "http://localhost:54001/api/json/GetDirectories?sessionID=SDK.Python&path=C%3A%2FeSupport%2FeDriver%2FSoftware%2FDriver%2FDCH%2FOffline%2FAudio%2FRealtek%2FAudio_DTS_ROG%2F6.0.9239.1%2F25454\n",
      "http://localhost:54001/api/json/GetFiles?sessionID=SDK.Python&path=C%3A%2FeSupport%2FeDriver%2FSoftware%2FDriver%2FDCH%2FOffline%2FAudio%2FRealtek%2FAudio_DTS_ROG%2F6.0.9239.1%2F25454%2FRealtek\n",
      "http://localhost:54001/api/json/GetDirectories?sessionID=SDK.Python&path=C%3A%2FeSupport%2FeDriver%2FSoftware%2FDriver%2FDCH%2FOffline%2FAudio%2FRealtek%2FAudio_DTS_ROG%2F6.0.9239.1%2F25454%2FRealtek\n",
      "http://localhost:54001/api/json/GetFiles?sessionID=SDK.Python&path=C%3A%2FeSupport%2FeDriver%2FSoftware%2FDriver%2FDCH%2FOffline%2FAudio%2FRealtek%2FAudio_DTS_ROG%2F6.0.9239.1%2F25454%2FRealtek%2FCodec_9239.1\n",
      "http://localhost:54001/api/json/GetDirectories?sessionID=SDK.Python&path=C%3A%2FeSupport%2FeDriver%2FSoftware%2FDriver%2FDCH%2FOffline%2FAudio%2FRealtek%2FAudio_DTS_ROG%2F6.0.9239.1%2F25454%2FRealtek%2FCodec_9239.1\n",
      "http://localhost:54001/api/json/GetFiles?sessionID=SDK.Python&path=C%3A%2FeSupport%2FeDriver%2FSoftware%2FDriver%2FDCH%2FOffline%2FAudio%2FRealtek%2FAudio_DTS_ROG%2F6.0.9239.1%2F25454%2FRealtek%2FExtRtk_9239.1\n",
      "http://localhost:54001/api/json/GetDirectories?sessionID=SDK.Python&path=C%3A%2FeSupport%2FeDriver%2FSoftware%2FDriver%2FDCH%2FOffline%2FAudio%2FRealtek%2FAudio_DTS_ROG%2F6.0.9239.1%2F25454%2FRealtek%2FExtRtk_9239.1\n",
      "http://localhost:54001/api/json/GetFiles?sessionID=SDK.Python&path=C%3A%2FeSupport%2FeDriver%2FSoftware%2FDriver%2FDCH%2FOffline%2FAudio%2FRealtek%2FAudio_DTS_ROG%2F6.0.9239.1%2F25454%2FRealtek%2FRealtekAPO_965\n",
      "http://localhost:54001/api/json/GetDirectories?sessionID=SDK.Python&path=C%3A%2FeSupport%2FeDriver%2FSoftware%2FDriver%2FDCH%2FOffline%2FAudio%2FRealtek%2FAudio_DTS_ROG%2F6.0.9239.1%2F25454%2FRealtek%2FRealtekAPO_965\n",
      "http://localhost:54001/api/json/GetFiles?sessionID=SDK.Python&path=C%3A%2FeSupport%2FeDriver%2FSoftware%2FDriver%2FDCH%2FOffline%2FAudio%2FRealtek%2FAudio_DTS_ROG%2F6.0.9239.1%2F25454%2FRealtek%2FRealtekAPO2_965\n",
      "http://localhost:54001/api/json/GetDirectories?sessionID=SDK.Python&path=C%3A%2FeSupport%2FeDriver%2FSoftware%2FDriver%2FDCH%2FOffline%2FAudio%2FRealtek%2FAudio_DTS_ROG%2F6.0.9239.1%2F25454%2FRealtek%2FRealtekAPO2_965\n",
      "http://localhost:54001/api/json/GetFiles?sessionID=SDK.Python&path=C%3A%2FeSupport%2FeDriver%2FSoftware%2FDriver%2FDCH%2FOffline%2FAudio%2FRealtek%2FAudio_DTS_ROG%2F6.0.9239.1%2F25454%2FRealtek%2FRealtekASIO_8\n",
      "http://localhost:54001/api/json/GetDirectories?sessionID=SDK.Python&path=C%3A%2FeSupport%2FeDriver%2FSoftware%2FDriver%2FDCH%2FOffline%2FAudio%2FRealtek%2FAudio_DTS_ROG%2F6.0.9239.1%2F25454%2FRealtek%2FRealtekASIO_8\n",
      "http://localhost:54001/api/json/GetFiles?sessionID=SDK.Python&path=C%3A%2FeSupport%2FeDriver%2FSoftware%2FDriver%2FDCH%2FOffline%2FAudio%2FRealtek%2FAudio_DTS_ROG%2F6.0.9239.1%2F25454%2FRealtek%2FRealtekHSA_256\n",
      "http://localhost:54001/api/json/GetDirectories?sessionID=SDK.Python&path=C%3A%2FeSupport%2FeDriver%2FSoftware%2FDriver%2FDCH%2FOffline%2FAudio%2FRealtek%2FAudio_DTS_ROG%2F6.0.9239.1%2F25454%2FRealtek%2FRealtekHSA_256\n",
      "http://localhost:54001/api/json/GetFiles?sessionID=SDK.Python&path=C%3A%2FeSupport%2FeDriver%2FSoftware%2FDriver%2FDCH%2FOffline%2FAudio%2FRealtek%2FAudio_DTS_ROG%2F6.0.9239.1%2F25454%2FRealtek%2FRealtekService_433\n",
      "http://localhost:54001/api/json/GetDirectories?sessionID=SDK.Python&path=C%3A%2FeSupport%2FeDriver%2FSoftware%2FDriver%2FDCH%2FOffline%2FAudio%2FRealtek%2FAudio_DTS_ROG%2F6.0.9239.1%2F25454%2FRealtek%2FRealtekService_433\n",
      "http://localhost:54001/api/json/GetFiles?sessionID=SDK.Python&path=C%3A%2FeSupport%2FeDriver%2FSoftware%2FDriver%2FDCH%2FOffline%2FBluetooth\n",
      "http://localhost:54001/api/json/GetDirectories?sessionID=SDK.Python&path=C%3A%2FeSupport%2FeDriver%2FSoftware%2FDriver%2FDCH%2FOffline%2FBluetooth\n",
      "http://localhost:54001/api/json/GetFiles?sessionID=SDK.Python&path=C%3A%2FeSupport%2FeDriver%2FSoftware%2FDriver%2FDCH%2FOffline%2FBluetooth%2FIntel\n",
      "http://localhost:54001/api/json/GetDirectories?sessionID=SDK.Python&path=C%3A%2FeSupport%2FeDriver%2FSoftware%2FDriver%2FDCH%2FOffline%2FBluetooth%2FIntel\n",
      "http://localhost:54001/api/json/GetFiles?sessionID=SDK.Python&path=C%3A%2FeSupport%2FeDriver%2FSoftware%2FDriver%2FDCH%2FOffline%2FBluetooth%2FIntel%2FBluetooth_ROG\n",
      "http://localhost:54001/api/json/GetDirectories?sessionID=SDK.Python&path=C%3A%2FeSupport%2FeDriver%2FSoftware%2FDriver%2FDCH%2FOffline%2FBluetooth%2FIntel%2FBluetooth_ROG\n",
      "http://localhost:54001/api/json/GetFiles?sessionID=SDK.Python&path=C%3A%2FeSupport%2FeDriver%2FSoftware%2FDriver%2FDCH%2FOffline%2FBluetooth%2FIntel%2FBluetooth_ROG%2F22.70.2.1\n"
     ]
    },
    {
     "name": "stdout",
     "output_type": "stream",
     "text": [
      "http://localhost:54001/api/json/GetDirectories?sessionID=SDK.Python&path=C%3A%2FeSupport%2FeDriver%2FSoftware%2FDriver%2FDCH%2FOffline%2FBluetooth%2FIntel%2FBluetooth_ROG%2F22.70.2.1\n",
      "http://localhost:54001/api/json/GetFiles?sessionID=SDK.Python&path=C%3A%2FeSupport%2FeDriver%2FSoftware%2FDriver%2FDCH%2FOffline%2FBluetooth%2FMediaTek\n",
      "http://localhost:54001/api/json/GetDirectories?sessionID=SDK.Python&path=C%3A%2FeSupport%2FeDriver%2FSoftware%2FDriver%2FDCH%2FOffline%2FBluetooth%2FMediaTek\n",
      "http://localhost:54001/api/json/GetFiles?sessionID=SDK.Python&path=C%3A%2FeSupport%2FeDriver%2FSoftware%2FDriver%2FDCH%2FOffline%2FBluetooth%2FMediaTek%2FBluetooth_ROG\n",
      "http://localhost:54001/api/json/GetDirectories?sessionID=SDK.Python&path=C%3A%2FeSupport%2FeDriver%2FSoftware%2FDriver%2FDCH%2FOffline%2FBluetooth%2FMediaTek%2FBluetooth_ROG\n",
      "http://localhost:54001/api/json/GetFiles?sessionID=SDK.Python&path=C%3A%2FeSupport%2FeDriver%2FSoftware%2FDriver%2FDCH%2FOffline%2FBluetooth%2FMediaTek%2FBluetooth_ROG%2F1.3.14.132\n",
      "http://localhost:54001/api/json/GetDirectories?sessionID=SDK.Python&path=C%3A%2FeSupport%2FeDriver%2FSoftware%2FDriver%2FDCH%2FOffline%2FBluetooth%2FMediaTek%2FBluetooth_ROG%2F1.3.14.132\n",
      "http://localhost:54001/api/json/GetFiles?sessionID=SDK.Python&path=C%3A%2FeSupport%2FeDriver%2FSoftware%2FDriver%2FDCH%2FOffline%2FBluetooth%2FMediaTek%2FBluetooth_ROG%2F1.3.14.132%2F27281\n",
      "http://localhost:54001/api/json/GetDirectories?sessionID=SDK.Python&path=C%3A%2FeSupport%2FeDriver%2FSoftware%2FDriver%2FDCH%2FOffline%2FBluetooth%2FMediaTek%2FBluetooth_ROG%2F1.3.14.132%2F27281\n",
      "http://localhost:54001/api/json/GetFiles?sessionID=SDK.Python&path=C%3A%2FeSupport%2FeDriver%2FSoftware%2FDriver%2FDCH%2FOffline%2FChipset\n",
      "http://localhost:54001/api/json/GetDirectories?sessionID=SDK.Python&path=C%3A%2FeSupport%2FeDriver%2FSoftware%2FDriver%2FDCH%2FOffline%2FChipset\n",
      "http://localhost:54001/api/json/GetFiles?sessionID=SDK.Python&path=C%3A%2FeSupport%2FeDriver%2FSoftware%2FDriver%2FDCH%2FOffline%2FChipset%2FIntel\n",
      "http://localhost:54001/api/json/GetDirectories?sessionID=SDK.Python&path=C%3A%2FeSupport%2FeDriver%2FSoftware%2FDriver%2FDCH%2FOffline%2FChipset%2FIntel\n",
      "http://localhost:54001/api/json/GetFiles?sessionID=SDK.Python&path=C%3A%2FeSupport%2FeDriver%2FSoftware%2FDriver%2FDCH%2FOffline%2FChipset%2FIntel%2FINFUpdate_DCH_ROG\n",
      "http://localhost:54001/api/json/GetDirectories?sessionID=SDK.Python&path=C%3A%2FeSupport%2FeDriver%2FSoftware%2FDriver%2FDCH%2FOffline%2FChipset%2FIntel%2FINFUpdate_DCH_ROG\n",
      "http://localhost:54001/api/json/GetFiles?sessionID=SDK.Python&path=C%3A%2FeSupport%2FeDriver%2FSoftware%2FDriver%2FDCH%2FOffline%2FChipset%2FIntel%2FINFUpdate_DCH_ROG%2F10.1.31.2\n",
      "http://localhost:54001/api/json/GetDirectories?sessionID=SDK.Python&path=C%3A%2FeSupport%2FeDriver%2FSoftware%2FDriver%2FDCH%2FOffline%2FChipset%2FIntel%2FINFUpdate_DCH_ROG%2F10.1.31.2\n",
      "http://localhost:54001/api/json/GetFiles?sessionID=SDK.Python&path=C%3A%2FeSupport%2FeDriver%2FSoftware%2FDriver%2FDCH%2FOffline%2FChipset%2FIntel%2FINFUpdate_DCH_ROG%2F10.1.31.2%2F24210\n",
      "http://localhost:54001/api/json/GetDirectories?sessionID=SDK.Python&path=C%3A%2FeSupport%2FeDriver%2FSoftware%2FDriver%2FDCH%2FOffline%2FChipset%2FIntel%2FINFUpdate_DCH_ROG%2F10.1.31.2%2F24210\n",
      "http://localhost:54001/api/json/GetFiles?sessionID=SDK.Python&path=C%3A%2FeSupport%2FeDriver%2FSoftware%2FDriver%2FDCH%2FOffline%2FChipset%2FIntel%2FINFUpdate_DCH_ROG%2F10.1.31.2%2F24210%2FCannonLake-H\n",
      "http://localhost:54001/api/json/GetDirectories?sessionID=SDK.Python&path=C%3A%2FeSupport%2FeDriver%2FSoftware%2FDriver%2FDCH%2FOffline%2FChipset%2FIntel%2FINFUpdate_DCH_ROG%2F10.1.31.2%2F24210%2FCannonLake-H\n",
      "http://localhost:54001/api/json/GetFiles?sessionID=SDK.Python&path=C%3A%2FeSupport%2FeDriver%2FSoftware%2FDriver%2FDCH%2FOffline%2FChipset%2FIntel%2FINFUpdate_DCH_ROG%2F10.1.31.2%2F24210%2FCannonLake-LP\n",
      "http://localhost:54001/api/json/GetDirectories?sessionID=SDK.Python&path=C%3A%2FeSupport%2FeDriver%2FSoftware%2FDriver%2FDCH%2FOffline%2FChipset%2FIntel%2FINFUpdate_DCH_ROG%2F10.1.31.2%2F24210%2FCannonLake-LP\n",
      "http://localhost:54001/api/json/GetFiles?sessionID=SDK.Python&path=C%3A%2FeSupport%2FeDriver%2FSoftware%2FDriver%2FDCH%2FOffline%2FChipset%2FIntel%2FINFUpdate_DCH_ROG%2F10.1.31.2%2F24210%2FCoffeelake\n",
      "http://localhost:54001/api/json/GetDirectories?sessionID=SDK.Python&path=C%3A%2FeSupport%2FeDriver%2FSoftware%2FDriver%2FDCH%2FOffline%2FChipset%2FIntel%2FINFUpdate_DCH_ROG%2F10.1.31.2%2F24210%2FCoffeelake\n",
      "http://localhost:54001/api/json/GetFiles?sessionID=SDK.Python&path=C%3A%2FeSupport%2FeDriver%2FSoftware%2FDriver%2FDCH%2FOffline%2FChipset%2FIntel%2FINFUpdate_DCH_ROG%2F10.1.31.2%2F24210%2FCometLake\n",
      "http://localhost:54001/api/json/GetDirectories?sessionID=SDK.Python&path=C%3A%2FeSupport%2FeDriver%2FSoftware%2FDriver%2FDCH%2FOffline%2FChipset%2FIntel%2FINFUpdate_DCH_ROG%2F10.1.31.2%2F24210%2FCometLake\n",
      "http://localhost:54001/api/json/GetFiles?sessionID=SDK.Python&path=C%3A%2FeSupport%2FeDriver%2FSoftware%2FDriver%2FDCH%2FOffline%2FChipset%2FIntel%2FINFUpdate_DCH_ROG%2F10.1.31.2%2F24210%2FCometLakePCH-H\n",
      "http://localhost:54001/api/json/GetDirectories?sessionID=SDK.Python&path=C%3A%2FeSupport%2FeDriver%2FSoftware%2FDriver%2FDCH%2FOffline%2FChipset%2FIntel%2FINFUpdate_DCH_ROG%2F10.1.31.2%2F24210%2FCometLakePCH-H\n",
      "http://localhost:54001/api/json/GetFiles?sessionID=SDK.Python&path=C%3A%2FeSupport%2FeDriver%2FSoftware%2FDriver%2FDCH%2FOffline%2FChipset%2FIntel%2FINFUpdate_DCH_ROG%2F10.1.31.2%2F24210%2FCometLakePCH-LP\n",
      "http://localhost:54001/api/json/GetDirectories?sessionID=SDK.Python&path=C%3A%2FeSupport%2FeDriver%2FSoftware%2FDriver%2FDCH%2FOffline%2FChipset%2FIntel%2FINFUpdate_DCH_ROG%2F10.1.31.2%2F24210%2FCometLakePCH-LP\n",
      "http://localhost:54001/api/json/GetFiles?sessionID=SDK.Python&path=C%3A%2FeSupport%2FeDriver%2FSoftware%2FDriver%2FDCH%2FOffline%2FChipset%2FIntel%2FINFUpdate_DCH_ROG%2F10.1.31.2%2F24210%2FCometLakePCH-LP_Extension-DmaSec\n",
      "http://localhost:54001/api/json/GetDirectories?sessionID=SDK.Python&path=C%3A%2FeSupport%2FeDriver%2FSoftware%2FDriver%2FDCH%2FOffline%2FChipset%2FIntel%2FINFUpdate_DCH_ROG%2F10.1.31.2%2F24210%2FCometLakePCH-LP_Extension-DmaSec\n",
      "http://localhost:54001/api/json/GetFiles?sessionID=SDK.Python&path=C%3A%2FeSupport%2FeDriver%2FSoftware%2FDriver%2FDCH%2FOffline%2FChipset%2FIntel%2FINFUpdate_DCH_ROG%2F10.1.31.2%2F24210%2FCometLakePCH-V\n",
      "http://localhost:54001/api/json/GetDirectories?sessionID=SDK.Python&path=C%3A%2FeSupport%2FeDriver%2FSoftware%2FDriver%2FDCH%2FOffline%2FChipset%2FIntel%2FINFUpdate_DCH_ROG%2F10.1.31.2%2F24210%2FCometLakePCH-V\n",
      "http://localhost:54001/api/json/GetFiles?sessionID=SDK.Python&path=C%3A%2FeSupport%2FeDriver%2FSoftware%2FDriver%2FDCH%2FOffline%2FChipset%2FIntel%2FINFUpdate_DCH_ROG%2F10.1.31.2%2F24210%2FElkhartLake\n",
      "http://localhost:54001/api/json/GetDirectories?sessionID=SDK.Python&path=C%3A%2FeSupport%2FeDriver%2FSoftware%2FDriver%2FDCH%2FOffline%2FChipset%2FIntel%2FINFUpdate_DCH_ROG%2F10.1.31.2%2F24210%2FElkhartLake\n",
      "http://localhost:54001/api/json/GetFiles?sessionID=SDK.Python&path=C%3A%2FeSupport%2FeDriver%2FSoftware%2FDriver%2FDCH%2FOffline%2FChipset%2FIntel%2FINFUpdate_DCH_ROG%2F10.1.31.2%2F24210%2FGeminilake\n",
      "http://localhost:54001/api/json/GetDirectories?sessionID=SDK.Python&path=C%3A%2FeSupport%2FeDriver%2FSoftware%2FDriver%2FDCH%2FOffline%2FChipset%2FIntel%2FINFUpdate_DCH_ROG%2F10.1.31.2%2F24210%2FGeminilake\n",
      "http://localhost:54001/api/json/GetFiles?sessionID=SDK.Python&path=C%3A%2FeSupport%2FeDriver%2FSoftware%2FDriver%2FDCH%2FOffline%2FChipset%2FIntel%2FINFUpdate_DCH_ROG%2F10.1.31.2%2F24210%2FIceLake\n",
      "http://localhost:54001/api/json/GetDirectories?sessionID=SDK.Python&path=C%3A%2FeSupport%2FeDriver%2FSoftware%2FDriver%2FDCH%2FOffline%2FChipset%2FIntel%2FINFUpdate_DCH_ROG%2F10.1.31.2%2F24210%2FIceLake\n",
      "http://localhost:54001/api/json/GetFiles?sessionID=SDK.Python&path=C%3A%2FeSupport%2FeDriver%2FSoftware%2FDriver%2FDCH%2FOffline%2FChipset%2FIntel%2FINFUpdate_DCH_ROG%2F10.1.31.2%2F24210%2FIceLakePCH-LP\n",
      "http://localhost:54001/api/json/GetDirectories?sessionID=SDK.Python&path=C%3A%2FeSupport%2FeDriver%2FSoftware%2FDriver%2FDCH%2FOffline%2FChipset%2FIntel%2FINFUpdate_DCH_ROG%2F10.1.31.2%2F24210%2FIceLakePCH-LP\n",
      "http://localhost:54001/api/json/GetFiles?sessionID=SDK.Python&path=C%3A%2FeSupport%2FeDriver%2FSoftware%2FDriver%2FDCH%2FOffline%2FChipset%2FIntel%2FINFUpdate_DCH_ROG%2F10.1.31.2%2F24210%2FIceLakePCH-N\n",
      "http://localhost:54001/api/json/GetDirectories?sessionID=SDK.Python&path=C%3A%2FeSupport%2FeDriver%2FSoftware%2FDriver%2FDCH%2FOffline%2FChipset%2FIntel%2FINFUpdate_DCH_ROG%2F10.1.31.2%2F24210%2FIceLakePCH-N\n",
      "http://localhost:54001/api/json/GetFiles?sessionID=SDK.Python&path=C%3A%2FeSupport%2FeDriver%2FSoftware%2FDriver%2FDCH%2FOffline%2FChipset%2FIntel%2FINFUpdate_DCH_ROG%2F10.1.31.2%2F24210%2FKabylake\n",
      "http://localhost:54001/api/json/GetDirectories?sessionID=SDK.Python&path=C%3A%2FeSupport%2FeDriver%2FSoftware%2FDriver%2FDCH%2FOffline%2FChipset%2FIntel%2FINFUpdate_DCH_ROG%2F10.1.31.2%2F24210%2FKabylake\n",
      "http://localhost:54001/api/json/GetFiles?sessionID=SDK.Python&path=C%3A%2FeSupport%2FeDriver%2FSoftware%2FDriver%2FDCH%2FOffline%2FChipset%2FIntel%2FINFUpdate_DCH_ROG%2F10.1.31.2%2F24210%2FKabyLakePCH-H\n",
      "http://localhost:54001/api/json/GetDirectories?sessionID=SDK.Python&path=C%3A%2FeSupport%2FeDriver%2FSoftware%2FDriver%2FDCH%2FOffline%2FChipset%2FIntel%2FINFUpdate_DCH_ROG%2F10.1.31.2%2F24210%2FKabyLakePCH-H\n",
      "http://localhost:54001/api/json/GetFiles?sessionID=SDK.Python&path=C%3A%2FeSupport%2FeDriver%2FSoftware%2FDriver%2FDCH%2FOffline%2FChipset%2FIntel%2FINFUpdate_DCH_ROG%2F10.1.31.2%2F24210%2FLakeField\n"
     ]
    },
    {
     "name": "stdout",
     "output_type": "stream",
     "text": [
      "http://localhost:54001/api/json/GetDirectories?sessionID=SDK.Python&path=C%3A%2FeSupport%2FeDriver%2FSoftware%2FDriver%2FDCH%2FOffline%2FChipset%2FIntel%2FINFUpdate_DCH_ROG%2F10.1.31.2%2F24210%2FLakeField\n",
      "http://localhost:54001/api/json/GetFiles?sessionID=SDK.Python&path=C%3A%2FeSupport%2FeDriver%2FSoftware%2FDriver%2FDCH%2FOffline%2FChipset%2FIntel%2FINFUpdate_DCH_ROG%2F10.1.31.2%2F24210%2FSkylake\n",
      "http://localhost:54001/api/json/GetDirectories?sessionID=SDK.Python&path=C%3A%2FeSupport%2FeDriver%2FSoftware%2FDriver%2FDCH%2FOffline%2FChipset%2FIntel%2FINFUpdate_DCH_ROG%2F10.1.31.2%2F24210%2FSkylake\n",
      "http://localhost:54001/api/json/GetFiles?sessionID=SDK.Python&path=C%3A%2FeSupport%2FeDriver%2FSoftware%2FDriver%2FDCH%2FOffline%2FChipset%2FIntel%2FINFUpdate_DCH_ROG%2F10.1.31.2%2F24210%2FSunrisePoint-H\n",
      "http://localhost:54001/api/json/GetDirectories?sessionID=SDK.Python&path=C%3A%2FeSupport%2FeDriver%2FSoftware%2FDriver%2FDCH%2FOffline%2FChipset%2FIntel%2FINFUpdate_DCH_ROG%2F10.1.31.2%2F24210%2FSunrisePoint-H\n",
      "http://localhost:54001/api/json/GetFiles?sessionID=SDK.Python&path=C%3A%2FeSupport%2FeDriver%2FSoftware%2FDriver%2FDCH%2FOffline%2FChipset%2FIntel%2FINFUpdate_DCH_ROG%2F10.1.31.2%2F24210%2FSunrisePoint-LP\n",
      "http://localhost:54001/api/json/GetDirectories?sessionID=SDK.Python&path=C%3A%2FeSupport%2FeDriver%2FSoftware%2FDriver%2FDCH%2FOffline%2FChipset%2FIntel%2FINFUpdate_DCH_ROG%2F10.1.31.2%2F24210%2FSunrisePoint-LP\n",
      "http://localhost:54001/api/json/GetFiles?sessionID=SDK.Python&path=C%3A%2FeSupport%2FeDriver%2FSoftware%2FDriver%2FDCH%2FOffline%2FChipset%2FIntel%2FINFUpdate_DCH_ROG%2F10.1.31.2%2F24210%2FTigerlakePCH-LP\n",
      "http://localhost:54001/api/json/GetDirectories?sessionID=SDK.Python&path=C%3A%2FeSupport%2FeDriver%2FSoftware%2FDriver%2FDCH%2FOffline%2FChipset%2FIntel%2FINFUpdate_DCH_ROG%2F10.1.31.2%2F24210%2FTigerlakePCH-LP\n",
      "http://localhost:54001/api/json/GetFiles?sessionID=SDK.Python&path=C%3A%2FeSupport%2FeDriver%2FSoftware%2FDriver%2FDCH%2FOffline%2FChipset%2FIntel%2FINFUpdate_DCH_ROG%2F10.1.31.2%2F24210%2FTigerlakePCH-LP_Extension-DmaSec\n",
      "http://localhost:54001/api/json/GetDirectories?sessionID=SDK.Python&path=C%3A%2FeSupport%2FeDriver%2FSoftware%2FDriver%2FDCH%2FOffline%2FChipset%2FIntel%2FINFUpdate_DCH_ROG%2F10.1.31.2%2F24210%2FTigerlakePCH-LP_Extension-DmaSec\n",
      "http://localhost:54001/api/json/GetFiles?sessionID=SDK.Python&path=C%3A%2FeSupport%2FeDriver%2FSoftware%2FDriver%2FDCH%2FOffline%2FDPTF\n",
      "http://localhost:54001/api/json/GetDirectories?sessionID=SDK.Python&path=C%3A%2FeSupport%2FeDriver%2FSoftware%2FDriver%2FDCH%2FOffline%2FDPTF\n",
      "http://localhost:54001/api/json/GetFiles?sessionID=SDK.Python&path=C%3A%2FeSupport%2FeDriver%2FSoftware%2FDriver%2FDCH%2FOffline%2FDPTF%2FIntel\n",
      "http://localhost:54001/api/json/GetDirectories?sessionID=SDK.Python&path=C%3A%2FeSupport%2FeDriver%2FSoftware%2FDriver%2FDCH%2FOffline%2FDPTF%2FIntel\n",
      "http://localhost:54001/api/json/GetFiles?sessionID=SDK.Python&path=C%3A%2FeSupport%2FeDriver%2FSoftware%2FDriver%2FDCH%2FOffline%2FDPTF%2FIntel%2FDPTF_ROG\n",
      "http://localhost:54001/api/json/GetDirectories?sessionID=SDK.Python&path=C%3A%2FeSupport%2FeDriver%2FSoftware%2FDriver%2FDCH%2FOffline%2FDPTF%2FIntel%2FDPTF_ROG\n",
      "http://localhost:54001/api/json/GetFiles?sessionID=SDK.Python&path=C%3A%2FeSupport%2FeDriver%2FSoftware%2FDriver%2FDCH%2FOffline%2FDPTF%2FIntel%2FDPTF_ROG%2F8.7.10200.12510\n",
      "http://localhost:54001/api/json/GetDirectories?sessionID=SDK.Python&path=C%3A%2FeSupport%2FeDriver%2FSoftware%2FDriver%2FDCH%2FOffline%2FDPTF%2FIntel%2FDPTF_ROG%2F8.7.10200.12510\n",
      "http://localhost:54001/api/json/GetFiles?sessionID=SDK.Python&path=C%3A%2FeSupport%2FeDriver%2FSoftware%2FDriver%2FDCH%2FOffline%2FDPTF%2FIntel%2FDPTF_ROG%2F8.7.10200.12510%2F24216\n",
      "http://localhost:54001/api/json/GetDirectories?sessionID=SDK.Python&path=C%3A%2FeSupport%2FeDriver%2FSoftware%2FDriver%2FDCH%2FOffline%2FDPTF%2FIntel%2FDPTF_ROG%2F8.7.10200.12510%2F24216\n",
      "http://localhost:54001/api/json/GetFiles?sessionID=SDK.Python&path=C%3A%2FeSupport%2FeDriver%2FSoftware%2FDriver%2FDCH%2FOffline%2FGPIO\n",
      "http://localhost:54001/api/json/GetDirectories?sessionID=SDK.Python&path=C%3A%2FeSupport%2FeDriver%2FSoftware%2FDriver%2FDCH%2FOffline%2FGPIO\n",
      "http://localhost:54001/api/json/GetFiles?sessionID=SDK.Python&path=C%3A%2FeSupport%2FeDriver%2FSoftware%2FDriver%2FDCH%2FOffline%2FGPIO%2FIntel\n",
      "http://localhost:54001/api/json/GetDirectories?sessionID=SDK.Python&path=C%3A%2FeSupport%2FeDriver%2FSoftware%2FDriver%2FDCH%2FOffline%2FGPIO%2FIntel\n",
      "http://localhost:54001/api/json/GetFiles?sessionID=SDK.Python&path=C%3A%2FeSupport%2FeDriver%2FSoftware%2FDriver%2FDCH%2FOffline%2FGPIO%2FIntel%2FGPIO_ROG\n",
      "http://localhost:54001/api/json/GetDirectories?sessionID=SDK.Python&path=C%3A%2FeSupport%2FeDriver%2FSoftware%2FDriver%2FDCH%2FOffline%2FGPIO%2FIntel%2FGPIO_ROG\n",
      "http://localhost:54001/api/json/GetFiles?sessionID=SDK.Python&path=C%3A%2FeSupport%2FeDriver%2FSoftware%2FDriver%2FDCH%2FOffline%2FGPIO%2FIntel%2FGPIO_ROG%2F30.100.2020.7\n",
      "http://localhost:54001/api/json/GetDirectories?sessionID=SDK.Python&path=C%3A%2FeSupport%2FeDriver%2FSoftware%2FDriver%2FDCH%2FOffline%2FGPIO%2FIntel%2FGPIO_ROG%2F30.100.2020.7\n",
      "http://localhost:54001/api/json/GetFiles?sessionID=SDK.Python&path=C%3A%2FeSupport%2FeDriver%2FSoftware%2FDriver%2FDCH%2FOffline%2FGPIO%2FIntel%2FGPIO_ROG%2F30.100.2020.7%2F24213\n",
      "http://localhost:54001/api/json/GetDirectories?sessionID=SDK.Python&path=C%3A%2FeSupport%2FeDriver%2FSoftware%2FDriver%2FDCH%2FOffline%2FGPIO%2FIntel%2FGPIO_ROG%2F30.100.2020.7%2F24213\n",
      "http://localhost:54001/api/json/GetFiles?sessionID=SDK.Python&path=C%3A%2FeSupport%2FeDriver%2FSoftware%2FDriver%2FDCH%2FOffline%2FGraphic\n",
      "http://localhost:54001/api/json/GetDirectories?sessionID=SDK.Python&path=C%3A%2FeSupport%2FeDriver%2FSoftware%2FDriver%2FDCH%2FOffline%2FGraphic\n",
      "http://localhost:54001/api/json/GetFiles?sessionID=SDK.Python&path=C%3A%2FeSupport%2FeDriver%2FSoftware%2FDriver%2FDCH%2FOffline%2FGraphic%2FIntel\n",
      "http://localhost:54001/api/json/GetDirectories?sessionID=SDK.Python&path=C%3A%2FeSupport%2FeDriver%2FSoftware%2FDriver%2FDCH%2FOffline%2FGraphic%2FIntel\n",
      "http://localhost:54001/api/json/GetFiles?sessionID=SDK.Python&path=C%3A%2FeSupport%2FeDriver%2FSoftware%2FDriver%2FDCH%2FOffline%2FGraphic%2FIntel%2FGraphic_ROG\n",
      "http://localhost:54001/api/json/GetDirectories?sessionID=SDK.Python&path=C%3A%2FeSupport%2FeDriver%2FSoftware%2FDriver%2FDCH%2FOffline%2FGraphic%2FIntel%2FGraphic_ROG\n",
      "http://localhost:54001/api/json/GetFiles?sessionID=SDK.Python&path=C%3A%2FeSupport%2FeDriver%2FSoftware%2FDriver%2FDCH%2FOffline%2FGraphic%2FIntel%2FGraphic_ROG%2F30.0.100.9805\n",
      "http://localhost:54001/api/json/GetDirectories?sessionID=SDK.Python&path=C%3A%2FeSupport%2FeDriver%2FSoftware%2FDriver%2FDCH%2FOffline%2FGraphic%2FIntel%2FGraphic_ROG%2F30.0.100.9805\n",
      "http://localhost:54001/api/json/GetFiles?sessionID=SDK.Python&path=C%3A%2FeSupport%2FeDriver%2FSoftware%2FDriver%2FDCH%2FOffline%2FGraphic%2FIntel%2FGraphic_ROG%2F30.0.100.9805%2F27273\n",
      "http://localhost:54001/api/json/GetDirectories?sessionID=SDK.Python&path=C%3A%2FeSupport%2FeDriver%2FSoftware%2FDriver%2FDCH%2FOffline%2FGraphic%2FIntel%2FGraphic_ROG%2F30.0.100.9805%2F27273\n",
      "http://localhost:54001/api/json/GetFiles?sessionID=SDK.Python&path=C%3A%2FeSupport%2FeDriver%2FSoftware%2FDriver%2FDCH%2FOffline%2FGraphic%2FIntel%2FGraphic_ROG%2F30.0.100.9805%2F27273%2FDisplayAudio\n",
      "http://localhost:54001/api/json/GetDirectories?sessionID=SDK.Python&path=C%3A%2FeSupport%2FeDriver%2FSoftware%2FDriver%2FDCH%2FOffline%2FGraphic%2FIntel%2FGraphic_ROG%2F30.0.100.9805%2F27273%2FDisplayAudio\n",
      "http://localhost:54001/api/json/GetFiles?sessionID=SDK.Python&path=C%3A%2FeSupport%2FeDriver%2FSoftware%2FDriver%2FDCH%2FOffline%2FGraphic%2FIntel%2FGraphic_ROG%2F30.0.100.9805%2F27273%2FDisplayAudio%2F10.26\n",
      "http://localhost:54001/api/json/GetDirectories?sessionID=SDK.Python&path=C%3A%2FeSupport%2FeDriver%2FSoftware%2FDriver%2FDCH%2FOffline%2FGraphic%2FIntel%2FGraphic_ROG%2F30.0.100.9805%2F27273%2FDisplayAudio%2F10.26\n",
      "http://localhost:54001/api/json/GetFiles?sessionID=SDK.Python&path=C%3A%2FeSupport%2FeDriver%2FSoftware%2FDriver%2FDCH%2FOffline%2FGraphic%2FIntel%2FGraphic_ROG%2F30.0.100.9805%2F27273%2FDisplayAudio%2F10.27\n",
      "http://localhost:54001/api/json/GetDirectories?sessionID=SDK.Python&path=C%3A%2FeSupport%2FeDriver%2FSoftware%2FDriver%2FDCH%2FOffline%2FGraphic%2FIntel%2FGraphic_ROG%2F30.0.100.9805%2F27273%2FDisplayAudio%2F10.27\n",
      "http://localhost:54001/api/json/GetFiles?sessionID=SDK.Python&path=C%3A%2FeSupport%2FeDriver%2FSoftware%2FDriver%2FDCH%2FOffline%2FGraphic%2FIntel%2FGraphic_ROG%2F30.0.100.9805%2F27273%2FDisplayAudio%2F11.1\n",
      "http://localhost:54001/api/json/GetDirectories?sessionID=SDK.Python&path=C%3A%2FeSupport%2FeDriver%2FSoftware%2FDriver%2FDCH%2FOffline%2FGraphic%2FIntel%2FGraphic_ROG%2F30.0.100.9805%2F27273%2FDisplayAudio%2F11.1\n",
      "http://localhost:54001/api/json/GetFiles?sessionID=SDK.Python&path=C%3A%2FeSupport%2FeDriver%2FSoftware%2FDriver%2FDCH%2FOffline%2FGraphic%2FIntel%2FGraphic_ROG%2F30.0.100.9805%2F27273%2FDisplayAudio%2F11.2\n",
      "http://localhost:54001/api/json/GetDirectories?sessionID=SDK.Python&path=C%3A%2FeSupport%2FeDriver%2FSoftware%2FDriver%2FDCH%2FOffline%2FGraphic%2FIntel%2FGraphic_ROG%2F30.0.100.9805%2F27273%2FDisplayAudio%2F11.2\n",
      "http://localhost:54001/api/json/GetFiles?sessionID=SDK.Python&path=C%3A%2FeSupport%2FeDriver%2FSoftware%2FDriver%2FDCH%2FOffline%2FGraphic%2FIntel%2FGraphic_ROG%2F30.0.100.9805%2F27273%2Fextention_inf\n",
      "http://localhost:54001/api/json/GetDirectories?sessionID=SDK.Python&path=C%3A%2FeSupport%2FeDriver%2FSoftware%2FDriver%2FDCH%2FOffline%2FGraphic%2FIntel%2FGraphic_ROG%2F30.0.100.9805%2F27273%2Fextention_inf\n",
      "http://localhost:54001/api/json/GetFiles?sessionID=SDK.Python&path=C%3A%2FeSupport%2FeDriver%2FSoftware%2FDriver%2FDCH%2FOffline%2FGraphic%2FIntel%2FGraphic_ROG%2F30.0.100.9805%2F27273%2Ffw\n"
     ]
    },
    {
     "name": "stdout",
     "output_type": "stream",
     "text": [
      "http://localhost:54001/api/json/GetDirectories?sessionID=SDK.Python&path=C%3A%2FeSupport%2FeDriver%2FSoftware%2FDriver%2FDCH%2FOffline%2FGraphic%2FIntel%2FGraphic_ROG%2F30.0.100.9805%2F27273%2Ffw\n",
      "http://localhost:54001/api/json/GetFiles?sessionID=SDK.Python&path=C%3A%2FeSupport%2FeDriver%2FSoftware%2FDriver%2FDCH%2FOffline%2FGraphic%2FIntel%2FGraphic_ROG%2F30.0.100.9805%2F27273%2FMiniCtaDriver\n",
      "http://localhost:54001/api/json/GetDirectories?sessionID=SDK.Python&path=C%3A%2FeSupport%2FeDriver%2FSoftware%2FDriver%2FDCH%2FOffline%2FGraphic%2FIntel%2FGraphic_ROG%2F30.0.100.9805%2F27273%2FMiniCtaDriver\n",
      "http://localhost:54001/api/json/GetFiles?sessionID=SDK.Python&path=C%3A%2FeSupport%2FeDriver%2FSoftware%2FDriver%2FDCH%2FOffline%2FGraphic%2FIntel%2FGraphic_ROG%2F30.0.100.9805%2F27273%2Foprom\n",
      "http://localhost:54001/api/json/GetDirectories?sessionID=SDK.Python&path=C%3A%2FeSupport%2FeDriver%2FSoftware%2FDriver%2FDCH%2FOffline%2FGraphic%2FIntel%2FGraphic_ROG%2F30.0.100.9805%2F27273%2Foprom\n",
      "http://localhost:54001/api/json/GetFiles?sessionID=SDK.Python&path=C%3A%2FeSupport%2FeDriver%2FSoftware%2FDriver%2FDCH%2FOffline%2FI2C\n",
      "http://localhost:54001/api/json/GetDirectories?sessionID=SDK.Python&path=C%3A%2FeSupport%2FeDriver%2FSoftware%2FDriver%2FDCH%2FOffline%2FI2C\n",
      "http://localhost:54001/api/json/GetFiles?sessionID=SDK.Python&path=C%3A%2FeSupport%2FeDriver%2FSoftware%2FDriver%2FDCH%2FOffline%2FI2C%2FIntel\n",
      "http://localhost:54001/api/json/GetDirectories?sessionID=SDK.Python&path=C%3A%2FeSupport%2FeDriver%2FSoftware%2FDriver%2FDCH%2FOffline%2FI2C%2FIntel\n",
      "http://localhost:54001/api/json/GetFiles?sessionID=SDK.Python&path=C%3A%2FeSupport%2FeDriver%2FSoftware%2FDriver%2FDCH%2FOffline%2FI2C%2FIntel%2FI2C_ROG\n",
      "http://localhost:54001/api/json/GetDirectories?sessionID=SDK.Python&path=C%3A%2FeSupport%2FeDriver%2FSoftware%2FDriver%2FDCH%2FOffline%2FI2C%2FIntel%2FI2C_ROG\n",
      "http://localhost:54001/api/json/GetFiles?sessionID=SDK.Python&path=C%3A%2FeSupport%2FeDriver%2FSoftware%2FDriver%2FDCH%2FOffline%2FI2C%2FIntel%2FI2C_ROG%2F30.100.2020.7\n",
      "http://localhost:54001/api/json/GetDirectories?sessionID=SDK.Python&path=C%3A%2FeSupport%2FeDriver%2FSoftware%2FDriver%2FDCH%2FOffline%2FI2C%2FIntel%2FI2C_ROG%2F30.100.2020.7\n",
      "http://localhost:54001/api/json/GetFiles?sessionID=SDK.Python&path=C%3A%2FeSupport%2FeDriver%2FSoftware%2FDriver%2FDCH%2FOffline%2FI2C%2FIntel%2FI2C_ROG%2F30.100.2020.7%2F24214\n",
      "http://localhost:54001/api/json/GetDirectories?sessionID=SDK.Python&path=C%3A%2FeSupport%2FeDriver%2FSoftware%2FDriver%2FDCH%2FOffline%2FI2C%2FIntel%2FI2C_ROG%2F30.100.2020.7%2F24214\n",
      "http://localhost:54001/api/json/GetFiles?sessionID=SDK.Python&path=C%3A%2FeSupport%2FeDriver%2FSoftware%2FDriver%2FDCH%2FOffline%2FLAN\n",
      "http://localhost:54001/api/json/GetDirectories?sessionID=SDK.Python&path=C%3A%2FeSupport%2FeDriver%2FSoftware%2FDriver%2FDCH%2FOffline%2FLAN\n",
      "http://localhost:54001/api/json/GetFiles?sessionID=SDK.Python&path=C%3A%2FeSupport%2FeDriver%2FSoftware%2FDriver%2FDCH%2FOffline%2FLAN%2FRealtek\n",
      "http://localhost:54001/api/json/GetDirectories?sessionID=SDK.Python&path=C%3A%2FeSupport%2FeDriver%2FSoftware%2FDriver%2FDCH%2FOffline%2FLAN%2FRealtek\n",
      "http://localhost:54001/api/json/GetFiles?sessionID=SDK.Python&path=C%3A%2FeSupport%2FeDriver%2FSoftware%2FDriver%2FDCH%2FOffline%2FLAN%2FRealtek%2FLAN_ROG\n",
      "http://localhost:54001/api/json/GetDirectories?sessionID=SDK.Python&path=C%3A%2FeSupport%2FeDriver%2FSoftware%2FDriver%2FDCH%2FOffline%2FLAN%2FRealtek%2FLAN_ROG\n",
      "http://localhost:54001/api/json/GetFiles?sessionID=SDK.Python&path=C%3A%2FeSupport%2FeDriver%2FSoftware%2FDriver%2FDCH%2FOffline%2FLAN%2FRealtek%2FLAN_ROG%2F1168.002.0909.2021\n",
      "http://localhost:54001/api/json/GetDirectories?sessionID=SDK.Python&path=C%3A%2FeSupport%2FeDriver%2FSoftware%2FDriver%2FDCH%2FOffline%2FLAN%2FRealtek%2FLAN_ROG%2F1168.002.0909.2021\n",
      "http://localhost:54001/api/json/GetFiles?sessionID=SDK.Python&path=C%3A%2FeSupport%2FeDriver%2FSoftware%2FDriver%2FDCH%2FOffline%2FLAN%2FRealtek%2FLAN_ROG%2F1168.002.0909.2021%2F24658\n",
      "http://localhost:54001/api/json/GetDirectories?sessionID=SDK.Python&path=C%3A%2FeSupport%2FeDriver%2FSoftware%2FDriver%2FDCH%2FOffline%2FLAN%2FRealtek%2FLAN_ROG%2F1168.002.0909.2021%2F24658\n",
      "http://localhost:54001/api/json/GetFiles?sessionID=SDK.Python&path=C%3A%2FeSupport%2FeDriver%2FSoftware%2FDriver%2FDCH%2FOffline%2FMEI\n",
      "http://localhost:54001/api/json/GetDirectories?sessionID=SDK.Python&path=C%3A%2FeSupport%2FeDriver%2FSoftware%2FDriver%2FDCH%2FOffline%2FMEI\n",
      "http://localhost:54001/api/json/GetFiles?sessionID=SDK.Python&path=C%3A%2FeSupport%2FeDriver%2FSoftware%2FDriver%2FDCH%2FOffline%2FMEI%2FIntel\n",
      "http://localhost:54001/api/json/GetDirectories?sessionID=SDK.Python&path=C%3A%2FeSupport%2FeDriver%2FSoftware%2FDriver%2FDCH%2FOffline%2FMEI%2FIntel\n",
      "http://localhost:54001/api/json/GetFiles?sessionID=SDK.Python&path=C%3A%2FeSupport%2FeDriver%2FSoftware%2FDriver%2FDCH%2FOffline%2FMEI%2FIntel%2FMEI_Consumer_ROG\n",
      "http://localhost:54001/api/json/GetDirectories?sessionID=SDK.Python&path=C%3A%2FeSupport%2FeDriver%2FSoftware%2FDriver%2FDCH%2FOffline%2FMEI%2FIntel%2FMEI_Consumer_ROG\n",
      "http://localhost:54001/api/json/GetFiles?sessionID=SDK.Python&path=C%3A%2FeSupport%2FeDriver%2FSoftware%2FDriver%2FDCH%2FOffline%2FMEI%2FIntel%2FMEI_Consumer_ROG%2F2013.14.0.1529\n",
      "http://localhost:54001/api/json/GetDirectories?sessionID=SDK.Python&path=C%3A%2FeSupport%2FeDriver%2FSoftware%2FDriver%2FDCH%2FOffline%2FMEI%2FIntel%2FMEI_Consumer_ROG%2F2013.14.0.1529\n",
      "http://localhost:54001/api/json/GetFiles?sessionID=SDK.Python&path=C%3A%2FeSupport%2FeDriver%2FSoftware%2FDriver%2FDCH%2FOffline%2FMEI%2FIntel%2FMEI_Consumer_ROG%2F2013.14.0.1529%2F19545\n",
      "http://localhost:54001/api/json/GetDirectories?sessionID=SDK.Python&path=C%3A%2FeSupport%2FeDriver%2FSoftware%2FDriver%2FDCH%2FOffline%2FMEI%2FIntel%2FMEI_Consumer_ROG%2F2013.14.0.1529%2F19545\n",
      "http://localhost:54001/api/json/GetFiles?sessionID=SDK.Python&path=C%3A%2FeSupport%2FeDriver%2FSoftware%2FDriver%2FDCH%2FOffline%2FMEI%2FIntel%2FMEI_Consumer_ROG%2F2013.14.0.1529%2F19545%2FICLS\n",
      "http://localhost:54001/api/json/GetDirectories?sessionID=SDK.Python&path=C%3A%2FeSupport%2FeDriver%2FSoftware%2FDriver%2FDCH%2FOffline%2FMEI%2FIntel%2FMEI_Consumer_ROG%2F2013.14.0.1529%2F19545%2FICLS\n",
      "http://localhost:54001/api/json/GetFiles?sessionID=SDK.Python&path=C%3A%2FeSupport%2FeDriver%2FSoftware%2FDriver%2FDCH%2FOffline%2FMEI%2FIntel%2FMEI_Consumer_ROG%2F2013.14.0.1529%2F19545%2FICLS%2Fconf\n",
      "http://localhost:54001/api/json/GetDirectories?sessionID=SDK.Python&path=C%3A%2FeSupport%2FeDriver%2FSoftware%2FDriver%2FDCH%2FOffline%2FMEI%2FIntel%2FMEI_Consumer_ROG%2F2013.14.0.1529%2F19545%2FICLS%2Fconf\n",
      "http://localhost:54001/api/json/GetFiles?sessionID=SDK.Python&path=C%3A%2FeSupport%2FeDriver%2FSoftware%2FDriver%2FDCH%2FOffline%2FMEI%2FIntel%2FMEI_Consumer_ROG%2F2013.14.0.1529%2F19545%2FICLS%2FDocuments\n",
      "http://localhost:54001/api/json/GetDirectories?sessionID=SDK.Python&path=C%3A%2FeSupport%2FeDriver%2FSoftware%2FDriver%2FDCH%2FOffline%2FMEI%2FIntel%2FMEI_Consumer_ROG%2F2013.14.0.1529%2F19545%2FICLS%2FDocuments\n",
      "http://localhost:54001/api/json/GetFiles?sessionID=SDK.Python&path=C%3A%2FeSupport%2FeDriver%2FSoftware%2FDriver%2FDCH%2FOffline%2FMEI%2FIntel%2FMEI_Consumer_ROG%2F2013.14.0.1529%2F19545%2FICLS%2Flib\n",
      "http://localhost:54001/api/json/GetDirectories?sessionID=SDK.Python&path=C%3A%2FeSupport%2FeDriver%2FSoftware%2FDriver%2FDCH%2FOffline%2FMEI%2FIntel%2FMEI_Consumer_ROG%2F2013.14.0.1529%2F19545%2FICLS%2Flib\n",
      "http://localhost:54001/api/json/GetFiles?sessionID=SDK.Python&path=C%3A%2FeSupport%2FeDriver%2FSoftware%2FDriver%2FDCH%2FOffline%2FMEI%2FIntel%2FMEI_Consumer_ROG%2F2013.14.0.1529%2F19545%2FICLS%2Flib32\n",
      "http://localhost:54001/api/json/GetDirectories?sessionID=SDK.Python&path=C%3A%2FeSupport%2FeDriver%2FSoftware%2FDriver%2FDCH%2FOffline%2FMEI%2FIntel%2FMEI_Consumer_ROG%2F2013.14.0.1529%2F19545%2FICLS%2Flib32\n",
      "http://localhost:54001/api/json/GetFiles?sessionID=SDK.Python&path=C%3A%2FeSupport%2FeDriver%2FSoftware%2FDriver%2FDCH%2FOffline%2FMEI%2FIntel%2FMEI_Consumer_ROG%2F2013.14.0.1529%2F19545%2FJHI\n",
      "http://localhost:54001/api/json/GetDirectories?sessionID=SDK.Python&path=C%3A%2FeSupport%2FeDriver%2FSoftware%2FDriver%2FDCH%2FOffline%2FMEI%2FIntel%2FMEI_Consumer_ROG%2F2013.14.0.1529%2F19545%2FJHI\n",
      "http://localhost:54001/api/json/GetFiles?sessionID=SDK.Python&path=C%3A%2FeSupport%2FeDriver%2FSoftware%2FDriver%2FDCH%2FOffline%2FMEI%2FIntel%2FMEI_Consumer_ROG%2F2013.14.0.1529%2F19545%2FJHI%2Fwin10\n",
      "http://localhost:54001/api/json/GetDirectories?sessionID=SDK.Python&path=C%3A%2FeSupport%2FeDriver%2FSoftware%2FDriver%2FDCH%2FOffline%2FMEI%2FIntel%2FMEI_Consumer_ROG%2F2013.14.0.1529%2F19545%2FJHI%2Fwin10\n",
      "http://localhost:54001/api/json/GetFiles?sessionID=SDK.Python&path=C%3A%2FeSupport%2FeDriver%2FSoftware%2FDriver%2FDCH%2FOffline%2FMEI%2FIntel%2FMEI_Consumer_ROG%2F2013.14.0.1529%2F19545%2FMEI\n",
      "http://localhost:54001/api/json/GetDirectories?sessionID=SDK.Python&path=C%3A%2FeSupport%2FeDriver%2FSoftware%2FDriver%2FDCH%2FOffline%2FMEI%2FIntel%2FMEI_Consumer_ROG%2F2013.14.0.1529%2F19545%2FMEI\n",
      "http://localhost:54001/api/json/GetFiles?sessionID=SDK.Python&path=C%3A%2FeSupport%2FeDriver%2FSoftware%2FDriver%2FDCH%2FOffline%2FMEI%2FIntel%2FMEI_Consumer_ROG%2F2013.14.0.1529%2F19545%2FMEI%2Fwin10\n",
      "http://localhost:54001/api/json/GetDirectories?sessionID=SDK.Python&path=C%3A%2FeSupport%2FeDriver%2FSoftware%2FDriver%2FDCH%2FOffline%2FMEI%2FIntel%2FMEI_Consumer_ROG%2F2013.14.0.1529%2F19545%2FMEI%2Fwin10\n",
      "http://localhost:54001/api/json/GetFiles?sessionID=SDK.Python&path=C%3A%2FeSupport%2FeDriver%2FSoftware%2FDriver%2FDCH%2FOffline%2FMEI%2FIntel%2FMEI_Consumer_ROG%2F2013.14.0.1529%2F19545%2FMEI%2Fwin10%2Fx64\n",
      "http://localhost:54001/api/json/GetDirectories?sessionID=SDK.Python&path=C%3A%2FeSupport%2FeDriver%2FSoftware%2FDriver%2FDCH%2FOffline%2FMEI%2FIntel%2FMEI_Consumer_ROG%2F2013.14.0.1529%2F19545%2FMEI%2Fwin10%2Fx64\n",
      "http://localhost:54001/api/json/GetFiles?sessionID=SDK.Python&path=C%3A%2FeSupport%2FeDriver%2FSoftware%2FDriver%2FDCH%2FOffline%2FMEI%2FIntel%2FMEI_Consumer_ROG%2F2013.14.0.1529%2F19545%2FMEI%2Fwin10%2Fx86\n",
      "http://localhost:54001/api/json/GetDirectories?sessionID=SDK.Python&path=C%3A%2FeSupport%2FeDriver%2FSoftware%2FDriver%2FDCH%2FOffline%2FMEI%2FIntel%2FMEI_Consumer_ROG%2F2013.14.0.1529%2F19545%2FMEI%2Fwin10%2Fx86\n",
      "http://localhost:54001/api/json/GetFiles?sessionID=SDK.Python&path=C%3A%2FeSupport%2FeDriver%2FSoftware%2FDriver%2FDCH%2FOffline%2FRapid%20Storage\n",
      "http://localhost:54001/api/json/GetDirectories?sessionID=SDK.Python&path=C%3A%2FeSupport%2FeDriver%2FSoftware%2FDriver%2FDCH%2FOffline%2FRapid%20Storage\n",
      "http://localhost:54001/api/json/GetFiles?sessionID=SDK.Python&path=C%3A%2FeSupport%2FeDriver%2FSoftware%2FDriver%2FDCH%2FOffline%2FRapid%20Storage%2FIntel\n",
      "http://localhost:54001/api/json/GetDirectories?sessionID=SDK.Python&path=C%3A%2FeSupport%2FeDriver%2FSoftware%2FDriver%2FDCH%2FOffline%2FRapid%20Storage%2FIntel\n",
      "http://localhost:54001/api/json/GetFiles?sessionID=SDK.Python&path=C%3A%2FeSupport%2FeDriver%2FSoftware%2FDriver%2FDCH%2FOffline%2FRapid%20Storage%2FIntel%2FRapid%20Storage_ROG\n",
      "http://localhost:54001/api/json/GetDirectories?sessionID=SDK.Python&path=C%3A%2FeSupport%2FeDriver%2FSoftware%2FDriver%2FDCH%2FOffline%2FRapid%20Storage%2FIntel%2FRapid%20Storage_ROG\n",
      "http://localhost:54001/api/json/GetFiles?sessionID=SDK.Python&path=C%3A%2FeSupport%2FeDriver%2FSoftware%2FDriver%2FDCH%2FOffline%2FRapid%20Storage%2FIntel%2FRapid%20Storage_ROG%2F17.11.0.1000\n",
      "http://localhost:54001/api/json/GetDirectories?sessionID=SDK.Python&path=C%3A%2FeSupport%2FeDriver%2FSoftware%2FDriver%2FDCH%2FOffline%2FRapid%20Storage%2FIntel%2FRapid%20Storage_ROG%2F17.11.0.1000\n",
      "http://localhost:54001/api/json/GetFiles?sessionID=SDK.Python&path=C%3A%2FeSupport%2FeDriver%2FSoftware%2FDriver%2FDCH%2FOffline%2FRapid%20Storage%2FIntel%2FRapid%20Storage_ROG%2F17.11.0.1000%2F26696\n",
      "http://localhost:54001/api/json/GetDirectories?sessionID=SDK.Python&path=C%3A%2FeSupport%2FeDriver%2FSoftware%2FDriver%2FDCH%2FOffline%2FRapid%20Storage%2FIntel%2FRapid%20Storage_ROG%2F17.11.0.1000%2F26696\n",
      "http://localhost:54001/api/json/GetFiles?sessionID=SDK.Python&path=C%3A%2FeSupport%2FeDriver%2FSoftware%2FDriver%2FDCH%2FOffline%2FSmart%20Sound\n",
      "http://localhost:54001/api/json/GetDirectories?sessionID=SDK.Python&path=C%3A%2FeSupport%2FeDriver%2FSoftware%2FDriver%2FDCH%2FOffline%2FSmart%20Sound\n",
      "http://localhost:54001/api/json/GetFiles?sessionID=SDK.Python&path=C%3A%2FeSupport%2FeDriver%2FSoftware%2FDriver%2FDCH%2FOffline%2FSmart%20Sound%2FIntel\n"
     ]
    },
    {
     "name": "stdout",
     "output_type": "stream",
     "text": [
      "http://localhost:54001/api/json/GetDirectories?sessionID=SDK.Python&path=C%3A%2FeSupport%2FeDriver%2FSoftware%2FDriver%2FDCH%2FOffline%2FSmart%20Sound%2FIntel\n",
      "http://localhost:54001/api/json/GetFiles?sessionID=SDK.Python&path=C%3A%2FeSupport%2FeDriver%2FSoftware%2FDriver%2FDCH%2FOffline%2FSmart%20Sound%2FIntel%2FiSST_ROG\n",
      "http://localhost:54001/api/json/GetDirectories?sessionID=SDK.Python&path=C%3A%2FeSupport%2FeDriver%2FSoftware%2FDriver%2FDCH%2FOffline%2FSmart%20Sound%2FIntel%2FiSST_ROG\n",
      "http://localhost:54001/api/json/GetFiles?sessionID=SDK.Python&path=C%3A%2FeSupport%2FeDriver%2FSoftware%2FDriver%2FDCH%2FOffline%2FSmart%20Sound%2FIntel%2FiSST_ROG%2F10.25.00.4706\n",
      "http://localhost:54001/api/json/GetDirectories?sessionID=SDK.Python&path=C%3A%2FeSupport%2FeDriver%2FSoftware%2FDriver%2FDCH%2FOffline%2FSmart%20Sound%2FIntel%2FiSST_ROG%2F10.25.00.4706\n",
      "http://localhost:54001/api/json/GetFiles?sessionID=SDK.Python&path=C%3A%2FeSupport%2FeDriver%2FSoftware%2FDriver%2FDCH%2FOffline%2FSmart%20Sound%2FIntel%2FiSST_ROG%2F10.25.00.4706%2F24234\n",
      "http://localhost:54001/api/json/GetDirectories?sessionID=SDK.Python&path=C%3A%2FeSupport%2FeDriver%2FSoftware%2FDriver%2FDCH%2FOffline%2FSmart%20Sound%2FIntel%2FiSST_ROG%2F10.25.00.4706%2F24234\n",
      "http://localhost:54001/api/json/GetFiles?sessionID=SDK.Python&path=C%3A%2FeSupport%2FeDriver%2FSoftware%2FDriver%2FDCH%2FOffline%2FSmart%20Sound%2FIntel%2FiSST_ROG%2F10.25.00.4706%2F24234%2FAS\n",
      "http://localhost:54001/api/json/GetDirectories?sessionID=SDK.Python&path=C%3A%2FeSupport%2FeDriver%2FSoftware%2FDriver%2FDCH%2FOffline%2FSmart%20Sound%2FIntel%2FiSST_ROG%2F10.25.00.4706%2F24234%2FAS\n",
      "http://localhost:54001/api/json/GetFiles?sessionID=SDK.Python&path=C%3A%2FeSupport%2FeDriver%2FSoftware%2FDriver%2FDCH%2FOffline%2FSmart%20Sound%2FIntel%2FiSST_ROG%2F10.25.00.4706%2F24234%2FAS%2FDLLs\n",
      "http://localhost:54001/api/json/GetDirectories?sessionID=SDK.Python&path=C%3A%2FeSupport%2FeDriver%2FSoftware%2FDriver%2FDCH%2FOffline%2FSmart%20Sound%2FIntel%2FiSST_ROG%2F10.25.00.4706%2F24234%2FAS%2FDLLs\n",
      "http://localhost:54001/api/json/GetFiles?sessionID=SDK.Python&path=C%3A%2FeSupport%2FeDriver%2FSoftware%2FDriver%2FDCH%2FOffline%2FSmart%20Sound%2FIntel%2FiSST_ROG%2F10.25.00.4706%2F24234%2FAS%2FIAS\n",
      "http://localhost:54001/api/json/GetDirectories?sessionID=SDK.Python&path=C%3A%2FeSupport%2FeDriver%2FSoftware%2FDriver%2FDCH%2FOffline%2FSmart%20Sound%2FIntel%2FiSST_ROG%2F10.25.00.4706%2F24234%2FAS%2FIAS\n",
      "http://localhost:54001/api/json/GetFiles?sessionID=SDK.Python&path=C%3A%2FeSupport%2FeDriver%2FSoftware%2FDriver%2FDCH%2FOffline%2FSmart%20Sound%2FIntel%2FiSST_ROG%2F10.25.00.4706%2F24234%2FAS%2FIAS%2FCfg\n",
      "http://localhost:54001/api/json/GetDirectories?sessionID=SDK.Python&path=C%3A%2FeSupport%2FeDriver%2FSoftware%2FDriver%2FDCH%2FOffline%2FSmart%20Sound%2FIntel%2FiSST_ROG%2F10.25.00.4706%2F24234%2FAS%2FIAS%2FCfg\n",
      "http://localhost:54001/api/json/GetFiles?sessionID=SDK.Python&path=C%3A%2FeSupport%2FeDriver%2FSoftware%2FDriver%2FDCH%2FOffline%2FSmart%20Sound%2FIntel%2FiSST_ROG%2F10.25.00.4706%2F24234%2FFw\n",
      "http://localhost:54001/api/json/GetDirectories?sessionID=SDK.Python&path=C%3A%2FeSupport%2FeDriver%2FSoftware%2FDriver%2FDCH%2FOffline%2FSmart%20Sound%2FIntel%2FiSST_ROG%2F10.25.00.4706%2F24234%2FFw\n",
      "http://localhost:54001/api/json/GetFiles?sessionID=SDK.Python&path=C%3A%2FeSupport%2FeDriver%2FSoftware%2FDriver%2FDCH%2FOffline%2FSmart%20Sound%2FIntel%2FiSST_ROG%2F10.25.00.4706%2F24234%2FTopology\n",
      "http://localhost:54001/api/json/GetDirectories?sessionID=SDK.Python&path=C%3A%2FeSupport%2FeDriver%2FSoftware%2FDriver%2FDCH%2FOffline%2FSmart%20Sound%2FIntel%2FiSST_ROG%2F10.25.00.4706%2F24234%2FTopology\n",
      "http://localhost:54001/api/json/GetFiles?sessionID=SDK.Python&path=C%3A%2FeSupport%2FeDriver%2FSoftware%2FDriver%2FDCH%2FOffline%2FSmart%20Sound%2FIntel%2FiSST_ROG%2F10.25.00.4706%2F24234%2FWoV\n",
      "http://localhost:54001/api/json/GetDirectories?sessionID=SDK.Python&path=C%3A%2FeSupport%2FeDriver%2FSoftware%2FDriver%2FDCH%2FOffline%2FSmart%20Sound%2FIntel%2FiSST_ROG%2F10.25.00.4706%2F24234%2FWoV\n",
      "http://localhost:54001/api/json/GetFiles?sessionID=SDK.Python&path=C%3A%2FeSupport%2FeDriver%2FSoftware%2FDriver%2FDCH%2FOffline%2FSmart%20Sound%2FIntel%2FiSST_ROG%2F10.25.00.4706%2F24234%2FWoV%2FCorcent\n",
      "http://localhost:54001/api/json/GetDirectories?sessionID=SDK.Python&path=C%3A%2FeSupport%2FeDriver%2FSoftware%2FDriver%2FDCH%2FOffline%2FSmart%20Sound%2FIntel%2FiSST_ROG%2F10.25.00.4706%2F24234%2FWoV%2FCorcent\n",
      "http://localhost:54001/api/json/GetFiles?sessionID=SDK.Python&path=C%3A%2FeSupport%2FeDriver%2FSoftware%2FDriver%2FDCH%2FOffline%2FSmart%20Sound%2FIntel%2FiSST_ROG%2F10.25.00.4706%2F24234%2FWoV%2FCorcent%2Fm\n",
      "http://localhost:54001/api/json/GetDirectories?sessionID=SDK.Python&path=C%3A%2FeSupport%2FeDriver%2FSoftware%2FDriver%2FDCH%2FOffline%2FSmart%20Sound%2FIntel%2FiSST_ROG%2F10.25.00.4706%2F24234%2FWoV%2FCorcent%2Fm\n",
      "http://localhost:54001/api/json/GetFiles?sessionID=SDK.Python&path=C%3A%2FeSupport%2FeDriver%2FSoftware%2FDriver%2FDCH%2FOffline%2FSmart%20Sound%2FIntel%2FiSST_ROG%2F10.25.00.4706%2F24234%2FWoV%2FCorcent%2Fm%2Fzh-CN\n",
      "http://localhost:54001/api/json/GetDirectories?sessionID=SDK.Python&path=C%3A%2FeSupport%2FeDriver%2FSoftware%2FDriver%2FDCH%2FOffline%2FSmart%20Sound%2FIntel%2FiSST_ROG%2F10.25.00.4706%2F24234%2FWoV%2FCorcent%2Fm%2Fzh-CN\n",
      "http://localhost:54001/api/json/GetFiles?sessionID=SDK.Python&path=C%3A%2FeSupport%2FeDriver%2FSoftware%2FDriver%2FDCH%2FOffline%2FSmart%20Sound%2FIntel%2FiSST_ROG%2F10.25.00.4706%2F24234%2FWoV%2FCorfuj\n",
      "http://localhost:54001/api/json/GetDirectories?sessionID=SDK.Python&path=C%3A%2FeSupport%2FeDriver%2FSoftware%2FDriver%2FDCH%2FOffline%2FSmart%20Sound%2FIntel%2FiSST_ROG%2F10.25.00.4706%2F24234%2FWoV%2FCorfuj\n",
      "http://localhost:54001/api/json/GetFiles?sessionID=SDK.Python&path=C%3A%2FeSupport%2FeDriver%2FSoftware%2FDriver%2FDCH%2FOffline%2FSmart%20Sound%2FIntel%2FiSST_ROG%2F10.25.00.4706%2F24234%2FWoV%2FCorfuj%2Fm\n",
      "http://localhost:54001/api/json/GetDirectories?sessionID=SDK.Python&path=C%3A%2FeSupport%2FeDriver%2FSoftware%2FDriver%2FDCH%2FOffline%2FSmart%20Sound%2FIntel%2FiSST_ROG%2F10.25.00.4706%2F24234%2FWoV%2FCorfuj%2Fm\n",
      "http://localhost:54001/api/json/GetFiles?sessionID=SDK.Python&path=C%3A%2FeSupport%2FeDriver%2FSoftware%2FDriver%2FDCH%2FOffline%2FSmart%20Sound%2FIntel%2FiSST_ROG%2F10.25.00.4706%2F24234%2FWoV%2FCorfuj%2Fm%2Fja-JP\n",
      "http://localhost:54001/api/json/GetDirectories?sessionID=SDK.Python&path=C%3A%2FeSupport%2FeDriver%2FSoftware%2FDriver%2FDCH%2FOffline%2FSmart%20Sound%2FIntel%2FiSST_ROG%2F10.25.00.4706%2F24234%2FWoV%2FCorfuj%2Fm%2Fja-JP\n",
      "http://localhost:54001/api/json/GetFiles?sessionID=SDK.Python&path=C%3A%2FeSupport%2FeDriver%2FSoftware%2FDriver%2FDCH%2FOffline%2FSmart%20Sound%2FIntel%2FiSST_ROG%2F10.25.00.4706%2F24234%2FWoV%2FCorleno\n",
      "http://localhost:54001/api/json/GetDirectories?sessionID=SDK.Python&path=C%3A%2FeSupport%2FeDriver%2FSoftware%2FDriver%2FDCH%2FOffline%2FSmart%20Sound%2FIntel%2FiSST_ROG%2F10.25.00.4706%2F24234%2FWoV%2FCorleno\n",
      "http://localhost:54001/api/json/GetFiles?sessionID=SDK.Python&path=C%3A%2FeSupport%2FeDriver%2FSoftware%2FDriver%2FDCH%2FOffline%2FSmart%20Sound%2FIntel%2FiSST_ROG%2F10.25.00.4706%2F24234%2FWoV%2FCorleno%2Fm\n",
      "http://localhost:54001/api/json/GetDirectories?sessionID=SDK.Python&path=C%3A%2FeSupport%2FeDriver%2FSoftware%2FDriver%2FDCH%2FOffline%2FSmart%20Sound%2FIntel%2FiSST_ROG%2F10.25.00.4706%2F24234%2FWoV%2FCorleno%2Fm\n",
      "http://localhost:54001/api/json/GetFiles?sessionID=SDK.Python&path=C%3A%2FeSupport%2FeDriver%2FSoftware%2FDriver%2FDCH%2FOffline%2FSmart%20Sound%2FIntel%2FiSST_ROG%2F10.25.00.4706%2F24234%2FWoV%2FCorleno%2Fm%2Fzh-CN\n",
      "http://localhost:54001/api/json/GetDirectories?sessionID=SDK.Python&path=C%3A%2FeSupport%2FeDriver%2FSoftware%2FDriver%2FDCH%2FOffline%2FSmart%20Sound%2FIntel%2FiSST_ROG%2F10.25.00.4706%2F24234%2FWoV%2FCorleno%2Fm%2Fzh-CN\n",
      "http://localhost:54001/api/json/GetFiles?sessionID=SDK.Python&path=C%3A%2FeSupport%2FeDriver%2FSoftware%2FDriver%2FDCH%2FOffline%2FSmart%20Sound%2FIntel%2FiSST_ROG%2F10.25.00.4706%2F24234%2FWoV%2FCorleno2\n",
      "http://localhost:54001/api/json/GetDirectories?sessionID=SDK.Python&path=C%3A%2FeSupport%2FeDriver%2FSoftware%2FDriver%2FDCH%2FOffline%2FSmart%20Sound%2FIntel%2FiSST_ROG%2F10.25.00.4706%2F24234%2FWoV%2FCorleno2\n",
      "http://localhost:54001/api/json/GetFiles?sessionID=SDK.Python&path=C%3A%2FeSupport%2FeDriver%2FSoftware%2FDriver%2FDCH%2FOffline%2FSmart%20Sound%2FIntel%2FiSST_ROG%2F10.25.00.4706%2F24234%2FWoV%2FCorleno2%2Fm\n",
      "http://localhost:54001/api/json/GetDirectories?sessionID=SDK.Python&path=C%3A%2FeSupport%2FeDriver%2FSoftware%2FDriver%2FDCH%2FOffline%2FSmart%20Sound%2FIntel%2FiSST_ROG%2F10.25.00.4706%2F24234%2FWoV%2FCorleno2%2Fm\n",
      "http://localhost:54001/api/json/GetFiles?sessionID=SDK.Python&path=C%3A%2FeSupport%2FeDriver%2FSoftware%2FDriver%2FDCH%2FOffline%2FSmart%20Sound%2FIntel%2FiSST_ROG%2F10.25.00.4706%2F24234%2FWoV%2FCorleno2%2Fm%2Fzh-CN\n",
      "http://localhost:54001/api/json/GetDirectories?sessionID=SDK.Python&path=C%3A%2FeSupport%2FeDriver%2FSoftware%2FDriver%2FDCH%2FOffline%2FSmart%20Sound%2FIntel%2FiSST_ROG%2F10.25.00.4706%2F24234%2FWoV%2FCorleno2%2Fm%2Fzh-CN\n",
      "http://localhost:54001/api/json/GetFiles?sessionID=SDK.Python&path=C%3A%2FeSupport%2FeDriver%2FSoftware%2FDriver%2FDCH%2FOffline%2FSmart%20Sound%2FIntel%2FiSST_ROG%2F10.25.00.4706%2F24234%2FWoV%2FCorlexa\n",
      "http://localhost:54001/api/json/GetDirectories?sessionID=SDK.Python&path=C%3A%2FeSupport%2FeDriver%2FSoftware%2FDriver%2FDCH%2FOffline%2FSmart%20Sound%2FIntel%2FiSST_ROG%2F10.25.00.4706%2F24234%2FWoV%2FCorlexa\n",
      "http://localhost:54001/api/json/GetFiles?sessionID=SDK.Python&path=C%3A%2FeSupport%2FeDriver%2FSoftware%2FDriver%2FDCH%2FOffline%2FSmart%20Sound%2FIntel%2FiSST_ROG%2F10.25.00.4706%2F24234%2FWoV%2FCorlexa%2Fm\n",
      "http://localhost:54001/api/json/GetDirectories?sessionID=SDK.Python&path=C%3A%2FeSupport%2FeDriver%2FSoftware%2FDriver%2FDCH%2FOffline%2FSmart%20Sound%2FIntel%2FiSST_ROG%2F10.25.00.4706%2F24234%2FWoV%2FCorlexa%2Fm\n",
      "http://localhost:54001/api/json/GetFiles?sessionID=SDK.Python&path=C%3A%2FeSupport%2FeDriver%2FSoftware%2FDriver%2FDCH%2FOffline%2FSmart%20Sound%2FIntel%2FiSST_ROG%2F10.25.00.4706%2F24234%2FWoV%2FCorlexa%2Fm%2Fde-DE\n",
      "http://localhost:54001/api/json/GetDirectories?sessionID=SDK.Python&path=C%3A%2FeSupport%2FeDriver%2FSoftware%2FDriver%2FDCH%2FOffline%2FSmart%20Sound%2FIntel%2FiSST_ROG%2F10.25.00.4706%2F24234%2FWoV%2FCorlexa%2Fm%2Fde-DE\n",
      "http://localhost:54001/api/json/GetFiles?sessionID=SDK.Python&path=C%3A%2FeSupport%2FeDriver%2FSoftware%2FDriver%2FDCH%2FOffline%2FSmart%20Sound%2FIntel%2FiSST_ROG%2F10.25.00.4706%2F24234%2FWoV%2FCorlexa%2Fm%2Fen-AU\n",
      "http://localhost:54001/api/json/GetDirectories?sessionID=SDK.Python&path=C%3A%2FeSupport%2FeDriver%2FSoftware%2FDriver%2FDCH%2FOffline%2FSmart%20Sound%2FIntel%2FiSST_ROG%2F10.25.00.4706%2F24234%2FWoV%2FCorlexa%2Fm%2Fen-AU\n",
      "http://localhost:54001/api/json/GetFiles?sessionID=SDK.Python&path=C%3A%2FeSupport%2FeDriver%2FSoftware%2FDriver%2FDCH%2FOffline%2FSmart%20Sound%2FIntel%2FiSST_ROG%2F10.25.00.4706%2F24234%2FWoV%2FCorlexa%2Fm%2Fen-CA\n",
      "http://localhost:54001/api/json/GetDirectories?sessionID=SDK.Python&path=C%3A%2FeSupport%2FeDriver%2FSoftware%2FDriver%2FDCH%2FOffline%2FSmart%20Sound%2FIntel%2FiSST_ROG%2F10.25.00.4706%2F24234%2FWoV%2FCorlexa%2Fm%2Fen-CA\n",
      "http://localhost:54001/api/json/GetFiles?sessionID=SDK.Python&path=C%3A%2FeSupport%2FeDriver%2FSoftware%2FDriver%2FDCH%2FOffline%2FSmart%20Sound%2FIntel%2FiSST_ROG%2F10.25.00.4706%2F24234%2FWoV%2FCorlexa%2Fm%2Fen-GB\n",
      "http://localhost:54001/api/json/GetDirectories?sessionID=SDK.Python&path=C%3A%2FeSupport%2FeDriver%2FSoftware%2FDriver%2FDCH%2FOffline%2FSmart%20Sound%2FIntel%2FiSST_ROG%2F10.25.00.4706%2F24234%2FWoV%2FCorlexa%2Fm%2Fen-GB\n",
      "http://localhost:54001/api/json/GetFiles?sessionID=SDK.Python&path=C%3A%2FeSupport%2FeDriver%2FSoftware%2FDriver%2FDCH%2FOffline%2FSmart%20Sound%2FIntel%2FiSST_ROG%2F10.25.00.4706%2F24234%2FWoV%2FCorlexa%2Fm%2Fen-IN\n",
      "http://localhost:54001/api/json/GetDirectories?sessionID=SDK.Python&path=C%3A%2FeSupport%2FeDriver%2FSoftware%2FDriver%2FDCH%2FOffline%2FSmart%20Sound%2FIntel%2FiSST_ROG%2F10.25.00.4706%2F24234%2FWoV%2FCorlexa%2Fm%2Fen-IN\n",
      "http://localhost:54001/api/json/GetFiles?sessionID=SDK.Python&path=C%3A%2FeSupport%2FeDriver%2FSoftware%2FDriver%2FDCH%2FOffline%2FSmart%20Sound%2FIntel%2FiSST_ROG%2F10.25.00.4706%2F24234%2FWoV%2FCorlexa%2Fm%2Fen-US\n",
      "http://localhost:54001/api/json/GetDirectories?sessionID=SDK.Python&path=C%3A%2FeSupport%2FeDriver%2FSoftware%2FDriver%2FDCH%2FOffline%2FSmart%20Sound%2FIntel%2FiSST_ROG%2F10.25.00.4706%2F24234%2FWoV%2FCorlexa%2Fm%2Fen-US\n",
      "http://localhost:54001/api/json/GetFiles?sessionID=SDK.Python&path=C%3A%2FeSupport%2FeDriver%2FSoftware%2FDriver%2FDCH%2FOffline%2FSmart%20Sound%2FIntel%2FiSST_ROG%2F10.25.00.4706%2F24234%2FWoV%2FCorlexa%2Fm%2Fes-ES\n",
      "http://localhost:54001/api/json/GetDirectories?sessionID=SDK.Python&path=C%3A%2FeSupport%2FeDriver%2FSoftware%2FDriver%2FDCH%2FOffline%2FSmart%20Sound%2FIntel%2FiSST_ROG%2F10.25.00.4706%2F24234%2FWoV%2FCorlexa%2Fm%2Fes-ES\n",
      "http://localhost:54001/api/json/GetFiles?sessionID=SDK.Python&path=C%3A%2FeSupport%2FeDriver%2FSoftware%2FDriver%2FDCH%2FOffline%2FSmart%20Sound%2FIntel%2FiSST_ROG%2F10.25.00.4706%2F24234%2FWoV%2FCorlexa%2Fm%2Fes-MX\n",
      "http://localhost:54001/api/json/GetDirectories?sessionID=SDK.Python&path=C%3A%2FeSupport%2FeDriver%2FSoftware%2FDriver%2FDCH%2FOffline%2FSmart%20Sound%2FIntel%2FiSST_ROG%2F10.25.00.4706%2F24234%2FWoV%2FCorlexa%2Fm%2Fes-MX\n",
      "http://localhost:54001/api/json/GetFiles?sessionID=SDK.Python&path=C%3A%2FeSupport%2FeDriver%2FSoftware%2FDriver%2FDCH%2FOffline%2FSmart%20Sound%2FIntel%2FiSST_ROG%2F10.25.00.4706%2F24234%2FWoV%2FCorlexa%2Fm%2Ffr-CA\n",
      "http://localhost:54001/api/json/GetDirectories?sessionID=SDK.Python&path=C%3A%2FeSupport%2FeDriver%2FSoftware%2FDriver%2FDCH%2FOffline%2FSmart%20Sound%2FIntel%2FiSST_ROG%2F10.25.00.4706%2F24234%2FWoV%2FCorlexa%2Fm%2Ffr-CA\n",
      "http://localhost:54001/api/json/GetFiles?sessionID=SDK.Python&path=C%3A%2FeSupport%2FeDriver%2FSoftware%2FDriver%2FDCH%2FOffline%2FSmart%20Sound%2FIntel%2FiSST_ROG%2F10.25.00.4706%2F24234%2FWoV%2FCorlexa%2Fm%2Ffr-FR\n",
      "http://localhost:54001/api/json/GetDirectories?sessionID=SDK.Python&path=C%3A%2FeSupport%2FeDriver%2FSoftware%2FDriver%2FDCH%2FOffline%2FSmart%20Sound%2FIntel%2FiSST_ROG%2F10.25.00.4706%2F24234%2FWoV%2FCorlexa%2Fm%2Ffr-FR\n",
      "http://localhost:54001/api/json/GetFiles?sessionID=SDK.Python&path=C%3A%2FeSupport%2FeDriver%2FSoftware%2FDriver%2FDCH%2FOffline%2FSmart%20Sound%2FIntel%2FiSST_ROG%2F10.25.00.4706%2F24234%2FWoV%2FCorlexa%2Fm%2Fit-IT\n"
     ]
    },
    {
     "name": "stdout",
     "output_type": "stream",
     "text": [
      "http://localhost:54001/api/json/GetDirectories?sessionID=SDK.Python&path=C%3A%2FeSupport%2FeDriver%2FSoftware%2FDriver%2FDCH%2FOffline%2FSmart%20Sound%2FIntel%2FiSST_ROG%2F10.25.00.4706%2F24234%2FWoV%2FCorlexa%2Fm%2Fit-IT\n",
      "http://localhost:54001/api/json/GetFiles?sessionID=SDK.Python&path=C%3A%2FeSupport%2FeDriver%2FSoftware%2FDriver%2FDCH%2FOffline%2FSmart%20Sound%2FIntel%2FiSST_ROG%2F10.25.00.4706%2F24234%2FWoV%2FCorlexa%2Fm%2Fja-JP\n",
      "http://localhost:54001/api/json/GetDirectories?sessionID=SDK.Python&path=C%3A%2FeSupport%2FeDriver%2FSoftware%2FDriver%2FDCH%2FOffline%2FSmart%20Sound%2FIntel%2FiSST_ROG%2F10.25.00.4706%2F24234%2FWoV%2FCorlexa%2Fm%2Fja-JP\n",
      "http://localhost:54001/api/json/GetFiles?sessionID=SDK.Python&path=C%3A%2FeSupport%2FeDriver%2FSoftware%2FDriver%2FDCH%2FOffline%2FSmart%20Sound%2FIntel%2FiSST_ROG%2F10.25.00.4706%2F24234%2FWoV%2FEcho\n",
      "http://localhost:54001/api/json/GetDirectories?sessionID=SDK.Python&path=C%3A%2FeSupport%2FeDriver%2FSoftware%2FDriver%2FDCH%2FOffline%2FSmart%20Sound%2FIntel%2FiSST_ROG%2F10.25.00.4706%2F24234%2FWoV%2FEcho\n",
      "http://localhost:54001/api/json/GetFiles?sessionID=SDK.Python&path=C%3A%2FeSupport%2FeDriver%2FSoftware%2FDriver%2FDCH%2FOffline%2FSmart%20Sound%2FIntel%2FiSST_ROG%2F10.25.00.4706%2F24234%2FWoV%2FEcho%2Fm\n",
      "http://localhost:54001/api/json/GetDirectories?sessionID=SDK.Python&path=C%3A%2FeSupport%2FeDriver%2FSoftware%2FDriver%2FDCH%2FOffline%2FSmart%20Sound%2FIntel%2FiSST_ROG%2F10.25.00.4706%2F24234%2FWoV%2FEcho%2Fm\n",
      "http://localhost:54001/api/json/GetFiles?sessionID=SDK.Python&path=C%3A%2FeSupport%2FeDriver%2FSoftware%2FDriver%2FDCH%2FOffline%2FSmart%20Sound%2FIntel%2FiSST_ROG%2F10.25.00.4706%2F24234%2FWoV%2FEcho%2Fm%2Fde-AT\n",
      "http://localhost:54001/api/json/GetDirectories?sessionID=SDK.Python&path=C%3A%2FeSupport%2FeDriver%2FSoftware%2FDriver%2FDCH%2FOffline%2FSmart%20Sound%2FIntel%2FiSST_ROG%2F10.25.00.4706%2F24234%2FWoV%2FEcho%2Fm%2Fde-AT\n",
      "http://localhost:54001/api/json/GetFiles?sessionID=SDK.Python&path=C%3A%2FeSupport%2FeDriver%2FSoftware%2FDriver%2FDCH%2FOffline%2FSmart%20Sound%2FIntel%2FiSST_ROG%2F10.25.00.4706%2F24234%2FWoV%2FEcho%2Fm%2Fde-DE\n",
      "http://localhost:54001/api/json/GetDirectories?sessionID=SDK.Python&path=C%3A%2FeSupport%2FeDriver%2FSoftware%2FDriver%2FDCH%2FOffline%2FSmart%20Sound%2FIntel%2FiSST_ROG%2F10.25.00.4706%2F24234%2FWoV%2FEcho%2Fm%2Fde-DE\n",
      "http://localhost:54001/api/json/GetFiles?sessionID=SDK.Python&path=C%3A%2FeSupport%2FeDriver%2FSoftware%2FDriver%2FDCH%2FOffline%2FSmart%20Sound%2FIntel%2FiSST_ROG%2F10.25.00.4706%2F24234%2FWoV%2FEcho%2Fm%2Fen-AU\n",
      "http://localhost:54001/api/json/GetDirectories?sessionID=SDK.Python&path=C%3A%2FeSupport%2FeDriver%2FSoftware%2FDriver%2FDCH%2FOffline%2FSmart%20Sound%2FIntel%2FiSST_ROG%2F10.25.00.4706%2F24234%2FWoV%2FEcho%2Fm%2Fen-AU\n",
      "http://localhost:54001/api/json/GetFiles?sessionID=SDK.Python&path=C%3A%2FeSupport%2FeDriver%2FSoftware%2FDriver%2FDCH%2FOffline%2FSmart%20Sound%2FIntel%2FiSST_ROG%2F10.25.00.4706%2F24234%2FWoV%2FEcho%2Fm%2Fen-CA\n",
      "http://localhost:54001/api/json/GetDirectories?sessionID=SDK.Python&path=C%3A%2FeSupport%2FeDriver%2FSoftware%2FDriver%2FDCH%2FOffline%2FSmart%20Sound%2FIntel%2FiSST_ROG%2F10.25.00.4706%2F24234%2FWoV%2FEcho%2Fm%2Fen-CA\n",
      "http://localhost:54001/api/json/GetFiles?sessionID=SDK.Python&path=C%3A%2FeSupport%2FeDriver%2FSoftware%2FDriver%2FDCH%2FOffline%2FSmart%20Sound%2FIntel%2FiSST_ROG%2F10.25.00.4706%2F24234%2FWoV%2FEcho%2Fm%2Fen-GB\n",
      "http://localhost:54001/api/json/GetDirectories?sessionID=SDK.Python&path=C%3A%2FeSupport%2FeDriver%2FSoftware%2FDriver%2FDCH%2FOffline%2FSmart%20Sound%2FIntel%2FiSST_ROG%2F10.25.00.4706%2F24234%2FWoV%2FEcho%2Fm%2Fen-GB\n",
      "http://localhost:54001/api/json/GetFiles?sessionID=SDK.Python&path=C%3A%2FeSupport%2FeDriver%2FSoftware%2FDriver%2FDCH%2FOffline%2FSmart%20Sound%2FIntel%2FiSST_ROG%2F10.25.00.4706%2F24234%2FWoV%2FEcho%2Fm%2Fen-IE\n",
      "http://localhost:54001/api/json/GetDirectories?sessionID=SDK.Python&path=C%3A%2FeSupport%2FeDriver%2FSoftware%2FDriver%2FDCH%2FOffline%2FSmart%20Sound%2FIntel%2FiSST_ROG%2F10.25.00.4706%2F24234%2FWoV%2FEcho%2Fm%2Fen-IE\n",
      "http://localhost:54001/api/json/GetFiles?sessionID=SDK.Python&path=C%3A%2FeSupport%2FeDriver%2FSoftware%2FDriver%2FDCH%2FOffline%2FSmart%20Sound%2FIntel%2FiSST_ROG%2F10.25.00.4706%2F24234%2FWoV%2FEcho%2Fm%2Fen-IN\n",
      "http://localhost:54001/api/json/GetDirectories?sessionID=SDK.Python&path=C%3A%2FeSupport%2FeDriver%2FSoftware%2FDriver%2FDCH%2FOffline%2FSmart%20Sound%2FIntel%2FiSST_ROG%2F10.25.00.4706%2F24234%2FWoV%2FEcho%2Fm%2Fen-IN\n",
      "http://localhost:54001/api/json/GetFiles?sessionID=SDK.Python&path=C%3A%2FeSupport%2FeDriver%2FSoftware%2FDriver%2FDCH%2FOffline%2FSmart%20Sound%2FIntel%2FiSST_ROG%2F10.25.00.4706%2F24234%2FWoV%2FEcho%2Fm%2Fen-NZ\n",
      "http://localhost:54001/api/json/GetDirectories?sessionID=SDK.Python&path=C%3A%2FeSupport%2FeDriver%2FSoftware%2FDriver%2FDCH%2FOffline%2FSmart%20Sound%2FIntel%2FiSST_ROG%2F10.25.00.4706%2F24234%2FWoV%2FEcho%2Fm%2Fen-NZ\n",
      "http://localhost:54001/api/json/GetFiles?sessionID=SDK.Python&path=C%3A%2FeSupport%2FeDriver%2FSoftware%2FDriver%2FDCH%2FOffline%2FSmart%20Sound%2FIntel%2FiSST_ROG%2F10.25.00.4706%2F24234%2FWoV%2FEcho%2Fm%2Fen-US\n",
      "http://localhost:54001/api/json/GetDirectories?sessionID=SDK.Python&path=C%3A%2FeSupport%2FeDriver%2FSoftware%2FDriver%2FDCH%2FOffline%2FSmart%20Sound%2FIntel%2FiSST_ROG%2F10.25.00.4706%2F24234%2FWoV%2FEcho%2Fm%2Fen-US\n",
      "http://localhost:54001/api/json/GetFiles?sessionID=SDK.Python&path=C%3A%2FeSupport%2FeDriver%2FSoftware%2FDriver%2FDCH%2FOffline%2FSmart%20Sound%2FIntel%2FiSST_ROG%2F10.25.00.4706%2F24234%2FWoV%2FEcho%2Fm%2Fes-ES\n",
      "http://localhost:54001/api/json/GetDirectories?sessionID=SDK.Python&path=C%3A%2FeSupport%2FeDriver%2FSoftware%2FDriver%2FDCH%2FOffline%2FSmart%20Sound%2FIntel%2FiSST_ROG%2F10.25.00.4706%2F24234%2FWoV%2FEcho%2Fm%2Fes-ES\n",
      "http://localhost:54001/api/json/GetFiles?sessionID=SDK.Python&path=C%3A%2FeSupport%2FeDriver%2FSoftware%2FDriver%2FDCH%2FOffline%2FSmart%20Sound%2FIntel%2FiSST_ROG%2F10.25.00.4706%2F24234%2FWoV%2FEcho%2Fm%2Fes-MX\n",
      "http://localhost:54001/api/json/GetDirectories?sessionID=SDK.Python&path=C%3A%2FeSupport%2FeDriver%2FSoftware%2FDriver%2FDCH%2FOffline%2FSmart%20Sound%2FIntel%2FiSST_ROG%2F10.25.00.4706%2F24234%2FWoV%2FEcho%2Fm%2Fes-MX\n",
      "http://localhost:54001/api/json/GetFiles?sessionID=SDK.Python&path=C%3A%2FeSupport%2FeDriver%2FSoftware%2FDriver%2FDCH%2FOffline%2FSmart%20Sound%2FIntel%2FiSST_ROG%2F10.25.00.4706%2F24234%2FWoV%2FEcho%2Fm%2Ffr-CA\n",
      "http://localhost:54001/api/json/GetDirectories?sessionID=SDK.Python&path=C%3A%2FeSupport%2FeDriver%2FSoftware%2FDriver%2FDCH%2FOffline%2FSmart%20Sound%2FIntel%2FiSST_ROG%2F10.25.00.4706%2F24234%2FWoV%2FEcho%2Fm%2Ffr-CA\n",
      "http://localhost:54001/api/json/GetFiles?sessionID=SDK.Python&path=C%3A%2FeSupport%2FeDriver%2FSoftware%2FDriver%2FDCH%2FOffline%2FSmart%20Sound%2FIntel%2FiSST_ROG%2F10.25.00.4706%2F24234%2FWoV%2FEcho%2Fm%2Ffr-FR\n",
      "http://localhost:54001/api/json/GetDirectories?sessionID=SDK.Python&path=C%3A%2FeSupport%2FeDriver%2FSoftware%2FDriver%2FDCH%2FOffline%2FSmart%20Sound%2FIntel%2FiSST_ROG%2F10.25.00.4706%2F24234%2FWoV%2FEcho%2Fm%2Ffr-FR\n",
      "http://localhost:54001/api/json/GetFiles?sessionID=SDK.Python&path=C%3A%2FeSupport%2FeDriver%2FSoftware%2FDriver%2FDCH%2FOffline%2FSmart%20Sound%2FIntel%2FiSST_ROG%2F10.25.00.4706%2F24234%2FWoV%2FEcho%2Fm%2Fit-IT\n",
      "http://localhost:54001/api/json/GetDirectories?sessionID=SDK.Python&path=C%3A%2FeSupport%2FeDriver%2FSoftware%2FDriver%2FDCH%2FOffline%2FSmart%20Sound%2FIntel%2FiSST_ROG%2F10.25.00.4706%2F24234%2FWoV%2FEcho%2Fm%2Fit-IT\n",
      "http://localhost:54001/api/json/GetFiles?sessionID=SDK.Python&path=C%3A%2FeSupport%2FeDriver%2FSoftware%2FDriver%2FDCH%2FOffline%2FSmart%20Sound%2FIntel%2FiSST_ROG%2F10.25.00.4706%2F24234%2FWoV%2FEcho%2Fm%2Fja-JP\n",
      "http://localhost:54001/api/json/GetDirectories?sessionID=SDK.Python&path=C%3A%2FeSupport%2FeDriver%2FSoftware%2FDriver%2FDCH%2FOffline%2FSmart%20Sound%2FIntel%2FiSST_ROG%2F10.25.00.4706%2F24234%2FWoV%2FEcho%2Fm%2Fja-JP\n",
      "http://localhost:54001/api/json/GetFiles?sessionID=SDK.Python&path=C%3A%2FeSupport%2FeDriver%2FSoftware%2FDriver%2FDCH%2FOffline%2FSmart%20Sound%2FIntel%2FiSST_ROG%2F10.25.00.4706%2F24234%2FWoV%2FFuj\n",
      "http://localhost:54001/api/json/GetDirectories?sessionID=SDK.Python&path=C%3A%2FeSupport%2FeDriver%2FSoftware%2FDriver%2FDCH%2FOffline%2FSmart%20Sound%2FIntel%2FiSST_ROG%2F10.25.00.4706%2F24234%2FWoV%2FFuj\n",
      "http://localhost:54001/api/json/GetFiles?sessionID=SDK.Python&path=C%3A%2FeSupport%2FeDriver%2FSoftware%2FDriver%2FDCH%2FOffline%2FSmart%20Sound%2FIntel%2FiSST_ROG%2F10.25.00.4706%2F24234%2FWoV%2FFuj%2Fm\n",
      "http://localhost:54001/api/json/GetDirectories?sessionID=SDK.Python&path=C%3A%2FeSupport%2FeDriver%2FSoftware%2FDriver%2FDCH%2FOffline%2FSmart%20Sound%2FIntel%2FiSST_ROG%2F10.25.00.4706%2F24234%2FWoV%2FFuj%2Fm\n",
      "http://localhost:54001/api/json/GetFiles?sessionID=SDK.Python&path=C%3A%2FeSupport%2FeDriver%2FSoftware%2FDriver%2FDCH%2FOffline%2FSmart%20Sound%2FIntel%2FiSST_ROG%2F10.25.00.4706%2F24234%2FWoV%2FFuj%2Fm%2Fja-JP\n",
      "http://localhost:54001/api/json/GetDirectories?sessionID=SDK.Python&path=C%3A%2FeSupport%2FeDriver%2FSoftware%2FDriver%2FDCH%2FOffline%2FSmart%20Sound%2FIntel%2FiSST_ROG%2F10.25.00.4706%2F24234%2FWoV%2FFuj%2Fm%2Fja-JP\n",
      "http://localhost:54001/api/json/GetFiles?sessionID=SDK.Python&path=C%3A%2FeSupport%2FeDriver%2FSoftware%2FDriver%2FDCH%2FOffline%2FSmart%20Sound%2FIntel%2FiSST_ROG%2F10.25.00.4706%2F24234%2FWoV%2FHeyClova\n",
      "http://localhost:54001/api/json/GetDirectories?sessionID=SDK.Python&path=C%3A%2FeSupport%2FeDriver%2FSoftware%2FDriver%2FDCH%2FOffline%2FSmart%20Sound%2FIntel%2FiSST_ROG%2F10.25.00.4706%2F24234%2FWoV%2FHeyClova\n",
      "http://localhost:54001/api/json/GetFiles?sessionID=SDK.Python&path=C%3A%2FeSupport%2FeDriver%2FSoftware%2FDriver%2FDCH%2FOffline%2FSmart%20Sound%2FIntel%2FiSST_ROG%2F10.25.00.4706%2F24234%2FWoV%2FHeyClova%2Fm\n",
      "http://localhost:54001/api/json/GetDirectories?sessionID=SDK.Python&path=C%3A%2FeSupport%2FeDriver%2FSoftware%2FDriver%2FDCH%2FOffline%2FSmart%20Sound%2FIntel%2FiSST_ROG%2F10.25.00.4706%2F24234%2FWoV%2FHeyClova%2Fm\n",
      "http://localhost:54001/api/json/GetFiles?sessionID=SDK.Python&path=C%3A%2FeSupport%2FeDriver%2FSoftware%2FDriver%2FDCH%2FOffline%2FSmart%20Sound%2FIntel%2FiSST_ROG%2F10.25.00.4706%2F24234%2FWoV%2FHeyClova%2Fm%2Fko-KR\n",
      "http://localhost:54001/api/json/GetDirectories?sessionID=SDK.Python&path=C%3A%2FeSupport%2FeDriver%2FSoftware%2FDriver%2FDCH%2FOffline%2FSmart%20Sound%2FIntel%2FiSST_ROG%2F10.25.00.4706%2F24234%2FWoV%2FHeyClova%2Fm%2Fko-KR\n",
      "http://localhost:54001/api/json/GetFiles?sessionID=SDK.Python&path=C%3A%2FeSupport%2FeDriver%2FSoftware%2FDriver%2FDCH%2FOffline%2FSmart%20Sound%2FIntel%2FiSST_ROG%2F10.25.00.4706%2F24234%2FWoV%2FHiLG\n",
      "http://localhost:54001/api/json/GetDirectories?sessionID=SDK.Python&path=C%3A%2FeSupport%2FeDriver%2FSoftware%2FDriver%2FDCH%2FOffline%2FSmart%20Sound%2FIntel%2FiSST_ROG%2F10.25.00.4706%2F24234%2FWoV%2FHiLG\n",
      "http://localhost:54001/api/json/GetFiles?sessionID=SDK.Python&path=C%3A%2FeSupport%2FeDriver%2FSoftware%2FDriver%2FDCH%2FOffline%2FSmart%20Sound%2FIntel%2FiSST_ROG%2F10.25.00.4706%2F24234%2FWoV%2FHiLG%2Fm\n",
      "http://localhost:54001/api/json/GetDirectories?sessionID=SDK.Python&path=C%3A%2FeSupport%2FeDriver%2FSoftware%2FDriver%2FDCH%2FOffline%2FSmart%20Sound%2FIntel%2FiSST_ROG%2F10.25.00.4706%2F24234%2FWoV%2FHiLG%2Fm\n",
      "http://localhost:54001/api/json/GetFiles?sessionID=SDK.Python&path=C%3A%2FeSupport%2FeDriver%2FSoftware%2FDriver%2FDCH%2FOffline%2FSmart%20Sound%2FIntel%2FiSST_ROG%2F10.25.00.4706%2F24234%2FWoV%2FHiLG%2Fm%2Fko-KR\n",
      "http://localhost:54001/api/json/GetDirectories?sessionID=SDK.Python&path=C%3A%2FeSupport%2FeDriver%2FSoftware%2FDriver%2FDCH%2FOffline%2FSmart%20Sound%2FIntel%2FiSST_ROG%2F10.25.00.4706%2F24234%2FWoV%2FHiLG%2Fm%2Fko-KR\n",
      "http://localhost:54001/api/json/GetFiles?sessionID=SDK.Python&path=C%3A%2FeSupport%2FeDriver%2FSoftware%2FDriver%2FDCH%2FOffline%2FSmart%20Sound%2FIntel%2FiSST_ROG%2F10.25.00.4706%2F24234%2FWoV%2FHwKws\n"
     ]
    },
    {
     "name": "stdout",
     "output_type": "stream",
     "text": [
      "http://localhost:54001/api/json/GetDirectories?sessionID=SDK.Python&path=C%3A%2FeSupport%2FeDriver%2FSoftware%2FDriver%2FDCH%2FOffline%2FSmart%20Sound%2FIntel%2FiSST_ROG%2F10.25.00.4706%2F24234%2FWoV%2FHwKws\n",
      "http://localhost:54001/api/json/GetFiles?sessionID=SDK.Python&path=C%3A%2FeSupport%2FeDriver%2FSoftware%2FDriver%2FDCH%2FOffline%2FSmart%20Sound%2FIntel%2FiSST_ROG%2F10.25.00.4706%2F24234%2FWoV%2FHwKws%2Fm\n",
      "http://localhost:54001/api/json/GetDirectories?sessionID=SDK.Python&path=C%3A%2FeSupport%2FeDriver%2FSoftware%2FDriver%2FDCH%2FOffline%2FSmart%20Sound%2FIntel%2FiSST_ROG%2F10.25.00.4706%2F24234%2FWoV%2FHwKws%2Fm\n",
      "http://localhost:54001/api/json/GetFiles?sessionID=SDK.Python&path=C%3A%2FeSupport%2FeDriver%2FSoftware%2FDriver%2FDCH%2FOffline%2FSmart%20Sound%2FIntel%2FiSST_ROG%2F10.25.00.4706%2F24234%2FWoV%2FHwKws%2Fm%2Fde-DE\n",
      "http://localhost:54001/api/json/GetDirectories?sessionID=SDK.Python&path=C%3A%2FeSupport%2FeDriver%2FSoftware%2FDriver%2FDCH%2FOffline%2FSmart%20Sound%2FIntel%2FiSST_ROG%2F10.25.00.4706%2F24234%2FWoV%2FHwKws%2Fm%2Fde-DE\n",
      "http://localhost:54001/api/json/GetFiles?sessionID=SDK.Python&path=C%3A%2FeSupport%2FeDriver%2FSoftware%2FDriver%2FDCH%2FOffline%2FSmart%20Sound%2FIntel%2FiSST_ROG%2F10.25.00.4706%2F24234%2FWoV%2FHwKws%2Fm%2Fen-AU\n",
      "http://localhost:54001/api/json/GetDirectories?sessionID=SDK.Python&path=C%3A%2FeSupport%2FeDriver%2FSoftware%2FDriver%2FDCH%2FOffline%2FSmart%20Sound%2FIntel%2FiSST_ROG%2F10.25.00.4706%2F24234%2FWoV%2FHwKws%2Fm%2Fen-AU\n",
      "http://localhost:54001/api/json/GetFiles?sessionID=SDK.Python&path=C%3A%2FeSupport%2FeDriver%2FSoftware%2FDriver%2FDCH%2FOffline%2FSmart%20Sound%2FIntel%2FiSST_ROG%2F10.25.00.4706%2F24234%2FWoV%2FHwKws%2Fm%2Fen-CA\n",
      "http://localhost:54001/api/json/GetDirectories?sessionID=SDK.Python&path=C%3A%2FeSupport%2FeDriver%2FSoftware%2FDriver%2FDCH%2FOffline%2FSmart%20Sound%2FIntel%2FiSST_ROG%2F10.25.00.4706%2F24234%2FWoV%2FHwKws%2Fm%2Fen-CA\n",
      "http://localhost:54001/api/json/GetFiles?sessionID=SDK.Python&path=C%3A%2FeSupport%2FeDriver%2FSoftware%2FDriver%2FDCH%2FOffline%2FSmart%20Sound%2FIntel%2FiSST_ROG%2F10.25.00.4706%2F24234%2FWoV%2FHwKws%2Fm%2Fen-GB\n",
      "http://localhost:54001/api/json/GetDirectories?sessionID=SDK.Python&path=C%3A%2FeSupport%2FeDriver%2FSoftware%2FDriver%2FDCH%2FOffline%2FSmart%20Sound%2FIntel%2FiSST_ROG%2F10.25.00.4706%2F24234%2FWoV%2FHwKws%2Fm%2Fen-GB\n",
      "http://localhost:54001/api/json/GetFiles?sessionID=SDK.Python&path=C%3A%2FeSupport%2FeDriver%2FSoftware%2FDriver%2FDCH%2FOffline%2FSmart%20Sound%2FIntel%2FiSST_ROG%2F10.25.00.4706%2F24234%2FWoV%2FHwKws%2Fm%2Fen-IN\n",
      "http://localhost:54001/api/json/GetDirectories?sessionID=SDK.Python&path=C%3A%2FeSupport%2FeDriver%2FSoftware%2FDriver%2FDCH%2FOffline%2FSmart%20Sound%2FIntel%2FiSST_ROG%2F10.25.00.4706%2F24234%2FWoV%2FHwKws%2Fm%2Fen-IN\n",
      "http://localhost:54001/api/json/GetFiles?sessionID=SDK.Python&path=C%3A%2FeSupport%2FeDriver%2FSoftware%2FDriver%2FDCH%2FOffline%2FSmart%20Sound%2FIntel%2FiSST_ROG%2F10.25.00.4706%2F24234%2FWoV%2FHwKws%2Fm%2Fen-US\n",
      "http://localhost:54001/api/json/GetDirectories?sessionID=SDK.Python&path=C%3A%2FeSupport%2FeDriver%2FSoftware%2FDriver%2FDCH%2FOffline%2FSmart%20Sound%2FIntel%2FiSST_ROG%2F10.25.00.4706%2F24234%2FWoV%2FHwKws%2Fm%2Fen-US\n",
      "http://localhost:54001/api/json/GetFiles?sessionID=SDK.Python&path=C%3A%2FeSupport%2FeDriver%2FSoftware%2FDriver%2FDCH%2FOffline%2FSmart%20Sound%2FIntel%2FiSST_ROG%2F10.25.00.4706%2F24234%2FWoV%2FHwKws%2Fm%2Fes-ES\n",
      "http://localhost:54001/api/json/GetDirectories?sessionID=SDK.Python&path=C%3A%2FeSupport%2FeDriver%2FSoftware%2FDriver%2FDCH%2FOffline%2FSmart%20Sound%2FIntel%2FiSST_ROG%2F10.25.00.4706%2F24234%2FWoV%2FHwKws%2Fm%2Fes-ES\n",
      "http://localhost:54001/api/json/GetFiles?sessionID=SDK.Python&path=C%3A%2FeSupport%2FeDriver%2FSoftware%2FDriver%2FDCH%2FOffline%2FSmart%20Sound%2FIntel%2FiSST_ROG%2F10.25.00.4706%2F24234%2FWoV%2FHwKws%2Fm%2Fes-MX\n",
      "http://localhost:54001/api/json/GetDirectories?sessionID=SDK.Python&path=C%3A%2FeSupport%2FeDriver%2FSoftware%2FDriver%2FDCH%2FOffline%2FSmart%20Sound%2FIntel%2FiSST_ROG%2F10.25.00.4706%2F24234%2FWoV%2FHwKws%2Fm%2Fes-MX\n",
      "http://localhost:54001/api/json/GetFiles?sessionID=SDK.Python&path=C%3A%2FeSupport%2FeDriver%2FSoftware%2FDriver%2FDCH%2FOffline%2FSmart%20Sound%2FIntel%2FiSST_ROG%2F10.25.00.4706%2F24234%2FWoV%2FHwKws%2Fm%2Ffr-CA\n",
      "http://localhost:54001/api/json/GetDirectories?sessionID=SDK.Python&path=C%3A%2FeSupport%2FeDriver%2FSoftware%2FDriver%2FDCH%2FOffline%2FSmart%20Sound%2FIntel%2FiSST_ROG%2F10.25.00.4706%2F24234%2FWoV%2FHwKws%2Fm%2Ffr-CA\n",
      "http://localhost:54001/api/json/GetFiles?sessionID=SDK.Python&path=C%3A%2FeSupport%2FeDriver%2FSoftware%2FDriver%2FDCH%2FOffline%2FSmart%20Sound%2FIntel%2FiSST_ROG%2F10.25.00.4706%2F24234%2FWoV%2FHwKws%2Fm%2Ffr-FR\n",
      "http://localhost:54001/api/json/GetDirectories?sessionID=SDK.Python&path=C%3A%2FeSupport%2FeDriver%2FSoftware%2FDriver%2FDCH%2FOffline%2FSmart%20Sound%2FIntel%2FiSST_ROG%2F10.25.00.4706%2F24234%2FWoV%2FHwKws%2Fm%2Ffr-FR\n",
      "http://localhost:54001/api/json/GetFiles?sessionID=SDK.Python&path=C%3A%2FeSupport%2FeDriver%2FSoftware%2FDriver%2FDCH%2FOffline%2FSmart%20Sound%2FIntel%2FiSST_ROG%2F10.25.00.4706%2F24234%2FWoV%2FHwKws%2Fm%2Fit-IT\n",
      "http://localhost:54001/api/json/GetDirectories?sessionID=SDK.Python&path=C%3A%2FeSupport%2FeDriver%2FSoftware%2FDriver%2FDCH%2FOffline%2FSmart%20Sound%2FIntel%2FiSST_ROG%2F10.25.00.4706%2F24234%2FWoV%2FHwKws%2Fm%2Fit-IT\n",
      "http://localhost:54001/api/json/GetFiles?sessionID=SDK.Python&path=C%3A%2FeSupport%2FeDriver%2FSoftware%2FDriver%2FDCH%2FOffline%2FSmart%20Sound%2FIntel%2FiSST_ROG%2F10.25.00.4706%2F24234%2FWoV%2FHwKws%2Fm%2Fja-JP\n",
      "http://localhost:54001/api/json/GetDirectories?sessionID=SDK.Python&path=C%3A%2FeSupport%2FeDriver%2FSoftware%2FDriver%2FDCH%2FOffline%2FSmart%20Sound%2FIntel%2FiSST_ROG%2F10.25.00.4706%2F24234%2FWoV%2FHwKws%2Fm%2Fja-JP\n",
      "http://localhost:54001/api/json/GetFiles?sessionID=SDK.Python&path=C%3A%2FeSupport%2FeDriver%2FSoftware%2FDriver%2FDCH%2FOffline%2FSmart%20Sound%2FIntel%2FiSST_ROG%2F10.25.00.4706%2F24234%2FWoV%2FHwKws%2Fm%2Fpt-BR\n",
      "http://localhost:54001/api/json/GetDirectories?sessionID=SDK.Python&path=C%3A%2FeSupport%2FeDriver%2FSoftware%2FDriver%2FDCH%2FOffline%2FSmart%20Sound%2FIntel%2FiSST_ROG%2F10.25.00.4706%2F24234%2FWoV%2FHwKws%2Fm%2Fpt-BR\n",
      "http://localhost:54001/api/json/GetFiles?sessionID=SDK.Python&path=C%3A%2FeSupport%2FeDriver%2FSoftware%2FDriver%2FDCH%2FOffline%2FSmart%20Sound%2FIntel%2FiSST_ROG%2F10.25.00.4706%2F24234%2FWoV%2FHwKws%2Fm%2Fzh-CN\n",
      "http://localhost:54001/api/json/GetDirectories?sessionID=SDK.Python&path=C%3A%2FeSupport%2FeDriver%2FSoftware%2FDriver%2FDCH%2FOffline%2FSmart%20Sound%2FIntel%2FiSST_ROG%2F10.25.00.4706%2F24234%2FWoV%2FHwKws%2Fm%2Fzh-CN\n",
      "http://localhost:54001/api/json/GetFiles?sessionID=SDK.Python&path=C%3A%2FeSupport%2FeDriver%2FSoftware%2FDriver%2FDCH%2FOffline%2FSmart%20Sound%2FIntel%2FiSST_ROG%2F10.25.00.4706%2F24234%2FWoV%2FLeno2\n",
      "http://localhost:54001/api/json/GetDirectories?sessionID=SDK.Python&path=C%3A%2FeSupport%2FeDriver%2FSoftware%2FDriver%2FDCH%2FOffline%2FSmart%20Sound%2FIntel%2FiSST_ROG%2F10.25.00.4706%2F24234%2FWoV%2FLeno2\n",
      "http://localhost:54001/api/json/GetFiles?sessionID=SDK.Python&path=C%3A%2FeSupport%2FeDriver%2FSoftware%2FDriver%2FDCH%2FOffline%2FSmart%20Sound%2FIntel%2FiSST_ROG%2F10.25.00.4706%2F24234%2FWoV%2FLeno2%2Fm\n",
      "http://localhost:54001/api/json/GetDirectories?sessionID=SDK.Python&path=C%3A%2FeSupport%2FeDriver%2FSoftware%2FDriver%2FDCH%2FOffline%2FSmart%20Sound%2FIntel%2FiSST_ROG%2F10.25.00.4706%2F24234%2FWoV%2FLeno2%2Fm\n",
      "http://localhost:54001/api/json/GetFiles?sessionID=SDK.Python&path=C%3A%2FeSupport%2FeDriver%2FSoftware%2FDriver%2FDCH%2FOffline%2FSmart%20Sound%2FIntel%2FiSST_ROG%2F10.25.00.4706%2F24234%2FWoV%2FLeno2%2Fm%2Fzh-CN\n",
      "http://localhost:54001/api/json/GetDirectories?sessionID=SDK.Python&path=C%3A%2FeSupport%2FeDriver%2FSoftware%2FDriver%2FDCH%2FOffline%2FSmart%20Sound%2FIntel%2FiSST_ROG%2F10.25.00.4706%2F24234%2FWoV%2FLeno2%2Fm%2Fzh-CN\n",
      "http://localhost:54001/api/json/GetFiles?sessionID=SDK.Python&path=C%3A%2FeSupport%2FeDriver%2FSoftware%2FDriver%2FDCH%2FOffline%2FSmart%20Sound%2FIntel%2FiSST_ROG%2F10.25.00.4706%2F24234%2FWoV%2FService\n",
      "http://localhost:54001/api/json/GetDirectories?sessionID=SDK.Python&path=C%3A%2FeSupport%2FeDriver%2FSoftware%2FDriver%2FDCH%2FOffline%2FSmart%20Sound%2FIntel%2FiSST_ROG%2F10.25.00.4706%2F24234%2FWoV%2FService\n",
      "http://localhost:54001/api/json/GetFiles?sessionID=SDK.Python&path=C%3A%2FeSupport%2FeDriver%2FSoftware%2FDriver%2FDCH%2FOffline%2FSmart%20Sound%2FIntel%2FiSST_ROG%2F10.25.00.4706%2F24234%2FWoV%2Fsid\n",
      "http://localhost:54001/api/json/GetDirectories?sessionID=SDK.Python&path=C%3A%2FeSupport%2FeDriver%2FSoftware%2FDriver%2FDCH%2FOffline%2FSmart%20Sound%2FIntel%2FiSST_ROG%2F10.25.00.4706%2F24234%2FWoV%2Fsid\n",
      "http://localhost:54001/api/json/GetFiles?sessionID=SDK.Python&path=C%3A%2FeSupport%2FeDriver%2FSoftware%2FDriver%2FDCH%2FOffline%2FSmart%20Sound%2FIntel%2FiSST_ROG%2F10.25.00.4706%2F24234%2FWoV%2FTencent\n",
      "http://localhost:54001/api/json/GetDirectories?sessionID=SDK.Python&path=C%3A%2FeSupport%2FeDriver%2FSoftware%2FDriver%2FDCH%2FOffline%2FSmart%20Sound%2FIntel%2FiSST_ROG%2F10.25.00.4706%2F24234%2FWoV%2FTencent\n",
      "http://localhost:54001/api/json/GetFiles?sessionID=SDK.Python&path=C%3A%2FeSupport%2FeDriver%2FSoftware%2FDriver%2FDCH%2FOffline%2FSmart%20Sound%2FIntel%2FiSST_ROG%2F10.25.00.4706%2F24234%2FWoV%2FTencent%2Fm\n",
      "http://localhost:54001/api/json/GetDirectories?sessionID=SDK.Python&path=C%3A%2FeSupport%2FeDriver%2FSoftware%2FDriver%2FDCH%2FOffline%2FSmart%20Sound%2FIntel%2FiSST_ROG%2F10.25.00.4706%2F24234%2FWoV%2FTencent%2Fm\n",
      "http://localhost:54001/api/json/GetFiles?sessionID=SDK.Python&path=C%3A%2FeSupport%2FeDriver%2FSoftware%2FDriver%2FDCH%2FOffline%2FSmart%20Sound%2FIntel%2FiSST_ROG%2F10.25.00.4706%2F24234%2FWoV%2FTencent%2Fm%2Fzh-CN\n",
      "http://localhost:54001/api/json/GetDirectories?sessionID=SDK.Python&path=C%3A%2FeSupport%2FeDriver%2FSoftware%2FDriver%2FDCH%2FOffline%2FSmart%20Sound%2FIntel%2FiSST_ROG%2F10.25.00.4706%2F24234%2FWoV%2FTencent%2Fm%2Fzh-CN\n",
      "http://localhost:54001/api/json/GetFiles?sessionID=SDK.Python&path=C%3A%2FeSupport%2FeDriver%2FSoftware%2FDriver%2FDCH%2FOffline%2FSmart%20Sound%2FIntel%2FiSST_ROG%2F10.25.00.4706%2F24234%2FWoV%2FYoga\n",
      "http://localhost:54001/api/json/GetDirectories?sessionID=SDK.Python&path=C%3A%2FeSupport%2FeDriver%2FSoftware%2FDriver%2FDCH%2FOffline%2FSmart%20Sound%2FIntel%2FiSST_ROG%2F10.25.00.4706%2F24234%2FWoV%2FYoga\n",
      "http://localhost:54001/api/json/GetFiles?sessionID=SDK.Python&path=C%3A%2FeSupport%2FeDriver%2FSoftware%2FDriver%2FDCH%2FOffline%2FSmart%20Sound%2FIntel%2FiSST_ROG%2F10.25.00.4706%2F24234%2FWoV%2FYoga%2Fm\n",
      "http://localhost:54001/api/json/GetDirectories?sessionID=SDK.Python&path=C%3A%2FeSupport%2FeDriver%2FSoftware%2FDriver%2FDCH%2FOffline%2FSmart%20Sound%2FIntel%2FiSST_ROG%2F10.25.00.4706%2F24234%2FWoV%2FYoga%2Fm\n",
      "http://localhost:54001/api/json/GetFiles?sessionID=SDK.Python&path=C%3A%2FeSupport%2FeDriver%2FSoftware%2FDriver%2FDCH%2FOffline%2FSmart%20Sound%2FIntel%2FiSST_ROG%2F10.25.00.4706%2F24234%2FWoV%2FYoga%2Fm%2Fzh-CN\n",
      "http://localhost:54001/api/json/GetDirectories?sessionID=SDK.Python&path=C%3A%2FeSupport%2FeDriver%2FSoftware%2FDriver%2FDCH%2FOffline%2FSmart%20Sound%2FIntel%2FiSST_ROG%2F10.25.00.4706%2F24234%2FWoV%2FYoga%2Fm%2Fzh-CN\n",
      "http://localhost:54001/api/json/GetFiles?sessionID=SDK.Python&path=C%3A%2FeSupport%2FeDriver%2FSoftware%2FDriver%2FDCH%2FOffline%2FWirelessLan\n"
     ]
    },
    {
     "name": "stdout",
     "output_type": "stream",
     "text": [
      "http://localhost:54001/api/json/GetDirectories?sessionID=SDK.Python&path=C%3A%2FeSupport%2FeDriver%2FSoftware%2FDriver%2FDCH%2FOffline%2FWirelessLan\n",
      "http://localhost:54001/api/json/GetFiles?sessionID=SDK.Python&path=C%3A%2FeSupport%2FeDriver%2FSoftware%2FDriver%2FDCH%2FOffline%2FWirelessLan%2FIntel\n",
      "http://localhost:54001/api/json/GetDirectories?sessionID=SDK.Python&path=C%3A%2FeSupport%2FeDriver%2FSoftware%2FDriver%2FDCH%2FOffline%2FWirelessLan%2FIntel\n",
      "http://localhost:54001/api/json/GetFiles?sessionID=SDK.Python&path=C%3A%2FeSupport%2FeDriver%2FSoftware%2FDriver%2FDCH%2FOffline%2FWirelessLan%2FIntel%2FWirelessLan_DCH_ROG\n",
      "http://localhost:54001/api/json/GetDirectories?sessionID=SDK.Python&path=C%3A%2FeSupport%2FeDriver%2FSoftware%2FDriver%2FDCH%2FOffline%2FWirelessLan%2FIntel%2FWirelessLan_DCH_ROG\n",
      "http://localhost:54001/api/json/GetFiles?sessionID=SDK.Python&path=C%3A%2FeSupport%2FeDriver%2FSoftware%2FDriver%2FDCH%2FOffline%2FWirelessLan%2FIntel%2FWirelessLan_DCH_ROG%2F22.70.0.6\n",
      "http://localhost:54001/api/json/GetDirectories?sessionID=SDK.Python&path=C%3A%2FeSupport%2FeDriver%2FSoftware%2FDriver%2FDCH%2FOffline%2FWirelessLan%2FIntel%2FWirelessLan_DCH_ROG%2F22.70.0.6\n",
      "http://localhost:54001/api/json/GetFiles?sessionID=SDK.Python&path=C%3A%2FeSupport%2FeDriver%2FSoftware%2FDriver%2FDCH%2FOffline%2FWirelessLan%2FMediaTek\n",
      "http://localhost:54001/api/json/GetDirectories?sessionID=SDK.Python&path=C%3A%2FeSupport%2FeDriver%2FSoftware%2FDriver%2FDCH%2FOffline%2FWirelessLan%2FMediaTek\n",
      "http://localhost:54001/api/json/GetFiles?sessionID=SDK.Python&path=C%3A%2FeSupport%2FeDriver%2FSoftware%2FDriver%2FDCH%2FOffline%2FWirelessLan%2FMediaTek%2FWirelessLan_ROG\n",
      "http://localhost:54001/api/json/GetDirectories?sessionID=SDK.Python&path=C%3A%2FeSupport%2FeDriver%2FSoftware%2FDriver%2FDCH%2FOffline%2FWirelessLan%2FMediaTek%2FWirelessLan_ROG\n",
      "http://localhost:54001/api/json/GetFiles?sessionID=SDK.Python&path=C%3A%2FeSupport%2FeDriver%2FSoftware%2FDriver%2FDCH%2FOffline%2FWirelessLan%2FMediaTek%2FWirelessLan_ROG%2F3.00.01.1207\n",
      "http://localhost:54001/api/json/GetDirectories?sessionID=SDK.Python&path=C%3A%2FeSupport%2FeDriver%2FSoftware%2FDriver%2FDCH%2FOffline%2FWirelessLan%2FMediaTek%2FWirelessLan_ROG%2F3.00.01.1207\n",
      "http://localhost:54001/api/json/GetFiles?sessionID=SDK.Python&path=C%3A%2FeSupport%2FeDriver%2FSoftware%2FDriver%2FDCH%2FOffline%2FWirelessLan%2FMediaTek%2FWirelessLan_ROG%2F3.00.01.1207%2F25125\n",
      "http://localhost:54001/api/json/GetDirectories?sessionID=SDK.Python&path=C%3A%2FeSupport%2FeDriver%2FSoftware%2FDriver%2FDCH%2FOffline%2FWirelessLan%2FMediaTek%2FWirelessLan_ROG%2F3.00.01.1207%2F25125\n",
      "http://localhost:54001/api/json/GetFiles?sessionID=SDK.Python&path=C%3A%2FeSupport%2FeDriver%2FSoftware%2FDriver%2FDCH%2FOnline\n",
      "http://localhost:54001/api/json/GetDirectories?sessionID=SDK.Python&path=C%3A%2FeSupport%2FeDriver%2FSoftware%2FDriver%2FDCH%2FOnline\n",
      "http://localhost:54001/api/json/GetFiles?sessionID=SDK.Python&path=C%3A%2FeSupport%2FeDriver%2FSoftware%2FDriver%2FDCH%2FOnline%2FASUS\n",
      "http://localhost:54001/api/json/GetDirectories?sessionID=SDK.Python&path=C%3A%2FeSupport%2FeDriver%2FSoftware%2FDriver%2FDCH%2FOnline%2FASUS\n",
      "http://localhost:54001/api/json/GetFiles?sessionID=SDK.Python&path=C%3A%2FeSupport%2FeDriver%2FSoftware%2FDriver%2FDCH%2FOnline%2FASUS%2FArmoury%20Crate%20Control%20Interface\n",
      "http://localhost:54001/api/json/GetDirectories?sessionID=SDK.Python&path=C%3A%2FeSupport%2FeDriver%2FSoftware%2FDriver%2FDCH%2FOnline%2FASUS%2FArmoury%20Crate%20Control%20Interface\n",
      "http://localhost:54001/api/json/GetFiles?sessionID=SDK.Python&path=C%3A%2FeSupport%2FeDriver%2FSoftware%2FDriver%2FDCH%2FOnline%2FASUS%2FArmoury%20Crate%20Control%20Interface%2F1.0.0.17\n",
      "http://localhost:54001/api/json/GetDirectories?sessionID=SDK.Python&path=C%3A%2FeSupport%2FeDriver%2FSoftware%2FDriver%2FDCH%2FOnline%2FASUS%2FArmoury%20Crate%20Control%20Interface%2F1.0.0.17\n",
      "http://localhost:54001/api/json/GetFiles?sessionID=SDK.Python&path=C%3A%2FeSupport%2FeDriver%2FSoftware%2FDriver%2FDCH%2FOnline%2FASUS%2FArmoury%20Crate%20Control%20Interface%2F1.0.0.17%2F13822\n",
      "http://localhost:54001/api/json/GetDirectories?sessionID=SDK.Python&path=C%3A%2FeSupport%2FeDriver%2FSoftware%2FDriver%2FDCH%2FOnline%2FASUS%2FArmoury%20Crate%20Control%20Interface%2F1.0.0.17%2F13822\n",
      "http://localhost:54001/api/json/GetFiles?sessionID=SDK.Python&path=C%3A%2FeSupport%2FeDriver%2FSoftware%2FDriver%2FDCH%2FOnline%2FGraphic\n",
      "http://localhost:54001/api/json/GetDirectories?sessionID=SDK.Python&path=C%3A%2FeSupport%2FeDriver%2FSoftware%2FDriver%2FDCH%2FOnline%2FGraphic\n",
      "http://localhost:54001/api/json/GetFiles?sessionID=SDK.Python&path=C%3A%2FeSupport%2FeDriver%2FSoftware%2FDriver%2FDCH%2FOnline%2FGraphic%2FNVIDIA\n",
      "http://localhost:54001/api/json/GetDirectories?sessionID=SDK.Python&path=C%3A%2FeSupport%2FeDriver%2FSoftware%2FDriver%2FDCH%2FOnline%2FGraphic%2FNVIDIA\n",
      "http://localhost:54001/api/json/GetFiles?sessionID=SDK.Python&path=C%3A%2FeSupport%2FeDriver%2FSoftware%2FDriver%2FDCH%2FOnline%2FGraphic%2FNVIDIA%2FGraphic_ROG\n",
      "http://localhost:54001/api/json/GetDirectories?sessionID=SDK.Python&path=C%3A%2FeSupport%2FeDriver%2FSoftware%2FDriver%2FDCH%2FOnline%2FGraphic%2FNVIDIA%2FGraphic_ROG\n",
      "http://localhost:54001/api/json/GetFiles?sessionID=SDK.Python&path=C%3A%2FeSupport%2FeDriver%2FSoftware%2FDriver%2FDCH%2FOnline%2FGraphic%2FNVIDIA%2FGraphic_ROG%2F30.0.15.1169\n",
      "http://localhost:54001/api/json/GetDirectories?sessionID=SDK.Python&path=C%3A%2FeSupport%2FeDriver%2FSoftware%2FDriver%2FDCH%2FOnline%2FGraphic%2FNVIDIA%2FGraphic_ROG%2F30.0.15.1169\n",
      "http://localhost:54001/api/json/GetFiles?sessionID=SDK.Python&path=C%3A%2FeSupport%2FeDriver%2FSoftware%2FDriver%2FDCH%2FOnline%2FGraphic%2FNVIDIA%2FGraphic_ROG%2F30.0.15.1169%2F27266\n",
      "http://localhost:54001/api/json/GetDirectories?sessionID=SDK.Python&path=C%3A%2FeSupport%2FeDriver%2FSoftware%2FDriver%2FDCH%2FOnline%2FGraphic%2FNVIDIA%2FGraphic_ROG%2F30.0.15.1169%2F27266\n",
      "http://localhost:54001/api/json/GetFiles?sessionID=SDK.Python&path=C%3A%2FeSupport%2FeDriver%2FSoftware%2FDriver%2FDCH%2FOnline%2FGraphic%2FNVIDIA%2FGraphic_ROG%2F30.0.15.1169%2F27266%2FDC\n",
      "http://localhost:54001/api/json/GetDirectories?sessionID=SDK.Python&path=C%3A%2FeSupport%2FeDriver%2FSoftware%2FDriver%2FDCH%2FOnline%2FGraphic%2FNVIDIA%2FGraphic_ROG%2F30.0.15.1169%2F27266%2FDC\n",
      "http://localhost:54001/api/json/GetFiles?sessionID=SDK.Python&path=C%3A%2FeSupport%2FeDriver%2FSoftware%2FDriver%2FDCH%2FOnline%2FGraphic%2FNVIDIA%2FGraphic_ROG%2F30.0.15.1169%2F27266%2FDC%2FDisplay.Driver\n",
      "http://localhost:54001/api/json/GetDirectories?sessionID=SDK.Python&path=C%3A%2FeSupport%2FeDriver%2FSoftware%2FDriver%2FDCH%2FOnline%2FGraphic%2FNVIDIA%2FGraphic_ROG%2F30.0.15.1169%2F27266%2FDC%2FDisplay.Driver\n",
      "http://localhost:54001/api/json/GetFiles?sessionID=SDK.Python&path=C%3A%2FeSupport%2FeDriver%2FSoftware%2FDriver%2FDCH%2FOnline%2FGraphic%2FNVIDIA%2FGraphic_ROG%2F30.0.15.1169%2F27266%2FDC%2FDisplay.Driver%2FDisplay.NvContainer\n",
      "http://localhost:54001/api/json/GetDirectories?sessionID=SDK.Python&path=C%3A%2FeSupport%2FeDriver%2FSoftware%2FDriver%2FDCH%2FOnline%2FGraphic%2FNVIDIA%2FGraphic_ROG%2F30.0.15.1169%2F27266%2FDC%2FDisplay.Driver%2FDisplay.NvContainer\n",
      "http://localhost:54001/api/json/GetFiles?sessionID=SDK.Python&path=C%3A%2FeSupport%2FeDriver%2FSoftware%2FDriver%2FDCH%2FOnline%2FGraphic%2FNVIDIA%2FGraphic_ROG%2F30.0.15.1169%2F27266%2FDC%2FDisplay.Driver%2FDisplay.NvContainer%2Fplugins\n",
      "http://localhost:54001/api/json/GetDirectories?sessionID=SDK.Python&path=C%3A%2FeSupport%2FeDriver%2FSoftware%2FDriver%2FDCH%2FOnline%2FGraphic%2FNVIDIA%2FGraphic_ROG%2F30.0.15.1169%2F27266%2FDC%2FDisplay.Driver%2FDisplay.NvContainer%2Fplugins\n",
      "http://localhost:54001/api/json/GetFiles?sessionID=SDK.Python&path=C%3A%2FeSupport%2FeDriver%2FSoftware%2FDriver%2FDCH%2FOnline%2FGraphic%2FNVIDIA%2FGraphic_ROG%2F30.0.15.1169%2F27266%2FDC%2FDisplay.Driver%2FDisplay.NvContainer%2Fplugins%2FLocalSystem\n",
      "http://localhost:54001/api/json/GetDirectories?sessionID=SDK.Python&path=C%3A%2FeSupport%2FeDriver%2FSoftware%2FDriver%2FDCH%2FOnline%2FGraphic%2FNVIDIA%2FGraphic_ROG%2F30.0.15.1169%2F27266%2FDC%2FDisplay.Driver%2FDisplay.NvContainer%2Fplugins%2FLocalSystem\n",
      "http://localhost:54001/api/json/GetFiles?sessionID=SDK.Python&path=C%3A%2FeSupport%2FeDriver%2FSoftware%2FDriver%2FDCH%2FOnline%2FGraphic%2FNVIDIA%2FGraphic_ROG%2F30.0.15.1169%2F27266%2FDC%2FDisplay.Driver%2FDisplay.NvContainer%2Fplugins%2FSession\n",
      "http://localhost:54001/api/json/GetDirectories?sessionID=SDK.Python&path=C%3A%2FeSupport%2FeDriver%2FSoftware%2FDriver%2FDCH%2FOnline%2FGraphic%2FNVIDIA%2FGraphic_ROG%2F30.0.15.1169%2F27266%2FDC%2FDisplay.Driver%2FDisplay.NvContainer%2Fplugins%2FSession\n",
      "http://localhost:54001/api/json/GetFiles?sessionID=SDK.Python&path=C%3A%2FeSupport%2FeDriver%2FSoftware%2FDriver%2FDCH%2FOnline%2FGraphic%2FNVIDIA%2FGraphic_ROG%2F30.0.15.1169%2F27266%2FDC%2FDisplay.Driver%2FNvCamera\n",
      "C:/eSupport/eDriver/Software/Driver/DCH/Online/Graphic/NVIDIA/Graphic_ROG/30.0.15.1169/27266/DC/Display.Driver/NvCamera\n"
     ]
    }
   ],
   "source": [
    "slide_dir = core.get_first_non_empty_directory()\n",
    "print (slide_dir)"
   ]
  },
  {
   "cell_type": "markdown",
   "metadata": {},
   "source": [
    "example 80: getting slides PMA.start (recursively and non-recursively)"
   ]
  },
  {
   "cell_type": "code",
   "execution_count": 30,
   "metadata": {},
   "outputs": [
    {
     "name": "stdout",
     "output_type": "stream",
     "text": [
      "Looking for slides in C:/wsi\n",
      "\n",
      "**Non-recursive:\n",
      "Found SessionID: SDK.Python\n",
      "http://localhost:54001/api/json/GetFiles?sessionID=SDK.Python&path=C%3A%2Fwsi\n",
      "['C:/wsi/DENTINO.mds', 'C:/wsi/NEONATAL.mds']\n",
      "\n",
      "**One-level deep recursion:\n",
      "Found SessionID: SDK.Python\n",
      "http://localhost:54001/api/json/GetFiles?sessionID=SDK.Python&path=C%3A%2Fwsi\n",
      "http://localhost:54001/api/json/GetDirectories?sessionID=SDK.Python&path=C%3A%2Fwsi\n",
      "http://localhost:54001/api/json/GetFiles?sessionID=SDK.Python&path=C%3A%2Fwsi%2FDENTINO-ENAMEL%20JUNCTION\n",
      "http://localhost:54001/api/json/GetFiles?sessionID=SDK.Python&path=C%3A%2Fwsi%2FNEONATAL%20LINES%20%28GS82%29\n",
      "['C:/wsi/DENTINO.mds', 'C:/wsi/NEONATAL.mds', 'C:/wsi/DENTINO-ENAMEL JUNCTION/1.mds', 'C:/wsi/NEONATAL LINES (GS82)/1.mds']\n",
      "\n",
      "**Full recursion:\n",
      "Found SessionID: SDK.Python\n",
      "http://localhost:54001/api/json/GetFiles?sessionID=SDK.Python&path=C%3A%2Fwsi\n",
      "http://localhost:54001/api/json/GetDirectories?sessionID=SDK.Python&path=C%3A%2Fwsi\n",
      "http://localhost:54001/api/json/GetFiles?sessionID=SDK.Python&path=C%3A%2Fwsi%2FDENTINO-ENAMEL%20JUNCTION\n",
      "http://localhost:54001/api/json/GetDirectories?sessionID=SDK.Python&path=C%3A%2Fwsi%2FDENTINO-ENAMEL%20JUNCTION\n",
      "http://localhost:54001/api/json/GetFiles?sessionID=SDK.Python&path=C%3A%2Fwsi%2FNEONATAL%20LINES%20%28GS82%29\n",
      "http://localhost:54001/api/json/GetDirectories?sessionID=SDK.Python&path=C%3A%2Fwsi%2FNEONATAL%20LINES%20%28GS82%29\n",
      "['C:/wsi/DENTINO.mds', 'C:/wsi/NEONATAL.mds', 'C:/wsi/DENTINO-ENAMEL JUNCTION/1.mds', 'C:/wsi/NEONATAL LINES (GS82)/1.mds']\n"
     ]
    }
   ],
   "source": [
    "slide_dir = pma_start_slide_dir\n",
    "print(\"Looking for slides in \" + slide_dir)\n",
    "print()\n",
    "\n",
    "print (\"**Non-recursive:\")\n",
    "print(core.get_slides(slide_dir))\n",
    "\n",
    "print (\"\\n**One-level deep recursion:\")\n",
    "print(core.get_slides(slide_dir, recursive = 1))\n",
    "\n",
    "print (\"\\n**Full recursion:\")\n",
    "print(core.get_slides(slide_dir, recursive = True))\n"
   ]
  },
  {
   "cell_type": "markdown",
   "metadata": {},
   "source": [
    "example 90: get UID for a slide in PMA.start"
   ]
  },
  {
   "cell_type": "code",
   "execution_count": 31,
   "metadata": {},
   "outputs": [
    {
     "name": "stdout",
     "output_type": "stream",
     "text": [
      "Looking for slides in C:/wsi\n",
      "\n",
      "Found SessionID: SDK.Python\n",
      "http://localhost:54001/api/json/GetFiles?sessionID=SDK.Python&path=C%3A%2Fwsi\n",
      "Found SessionID: SDK.Python\n",
      "PMA.start detected successfully\n"
     ]
    },
    {
     "ename": "ValueError",
     "evalue": "PMA.core.lite found running, but doesn't support UID generation.For advanced anonymization, please upgrade to PMA.core.",
     "output_type": "error",
     "traceback": [
      "\u001b[1;31m---------------------------------------------------------------------------\u001b[0m",
      "\u001b[1;31mValueError\u001b[0m                                Traceback (most recent call last)",
      "Cell \u001b[1;32mIn[31], line 7\u001b[0m\n\u001b[0;32m      4\u001b[0m \u001b[38;5;28mprint\u001b[39m()\n\u001b[0;32m      6\u001b[0m \u001b[38;5;28;01mfor\u001b[39;00m slide \u001b[38;5;129;01min\u001b[39;00m core\u001b[38;5;241m.\u001b[39mget_slides(slide_dir ):\n\u001b[1;32m----> 7\u001b[0m     \u001b[38;5;28mprint\u001b[39m (slide,\u001b[38;5;124m\"\u001b[39m\u001b[38;5;124m - \u001b[39m\u001b[38;5;124m\"\u001b[39m, \u001b[43mcore\u001b[49m\u001b[38;5;241;43m.\u001b[39;49m\u001b[43mget_uid\u001b[49m\u001b[43m(\u001b[49m\u001b[43mslide\u001b[49m\u001b[43m)\u001b[49m)\n",
      "File \u001b[1;32mc:\\users\\julka\\music\\pma_python\\pma_python\\core.py:653\u001b[0m, in \u001b[0;36mget_uid\u001b[1;34m(slideRef, sessionID, verify)\u001b[0m\n\u001b[0;32m    651\u001b[0m \u001b[38;5;28;01mif\u001b[39;00m (sessionID \u001b[38;5;241m==\u001b[39m _pma_pmacoreliteSessionID):\n\u001b[0;32m    652\u001b[0m     \u001b[38;5;28;01mif\u001b[39;00m is_lite():\n\u001b[1;32m--> 653\u001b[0m         \u001b[38;5;28;01mraise\u001b[39;00m \u001b[38;5;167;01mValueError\u001b[39;00m(\n\u001b[0;32m    654\u001b[0m             \u001b[38;5;124m\"\u001b[39m\u001b[38;5;124mPMA.core.lite found running, but doesn\u001b[39m\u001b[38;5;124m'\u001b[39m\u001b[38;5;124mt support UID generation.For advanced anonymization, please upgrade to PMA.core.\u001b[39m\u001b[38;5;124m\"\u001b[39m\n\u001b[0;32m    655\u001b[0m         )\n\u001b[0;32m    656\u001b[0m     \u001b[38;5;28;01melse\u001b[39;00m:\n\u001b[0;32m    657\u001b[0m         \u001b[38;5;28;01mraise\u001b[39;00m \u001b[38;5;167;01mValueError\u001b[39;00m(\n\u001b[0;32m    658\u001b[0m             \u001b[38;5;124m\"\u001b[39m\u001b[38;5;124mPMA.core.lite not found, and besides; it doesn\u001b[39m\u001b[38;5;124m'\u001b[39m\u001b[38;5;124mt support UID generation. For advanced anonymization, please upgrade to PMA.core.\u001b[39m\u001b[38;5;124m\"\u001b[39m\n\u001b[0;32m    659\u001b[0m         )\n",
      "\u001b[1;31mValueError\u001b[0m: PMA.core.lite found running, but doesn't support UID generation.For advanced anonymization, please upgrade to PMA.core."
     ]
    }
   ],
   "source": [
    "slide_dir = pma_start_slide_dir\n",
    "\n",
    "print(\"Looking for slides in \" + slide_dir)\n",
    "print()\n",
    "\n",
    "for slide in core.get_slides(slide_dir ):\n",
    "    print (slide,\" - \", core.get_uid(slide))"
   ]
  },
  {
   "cell_type": "markdown",
   "metadata": {},
   "source": [
    "example 100: get fingerprint for a slide in PMA.start"
   ]
  },
  {
   "cell_type": "code",
   "execution_count": 19,
   "metadata": {},
   "outputs": [
    {
     "name": "stdout",
     "output_type": "stream",
     "text": [
      "Looking for slides in C:/wsi\n",
      "\n",
      "Found SessionID: SDK.Python\n",
      "http://localhost:54001/api/json/GetFiles?sessionID=SDK.Python&path=C%3A%2Fwsi\n"
     ]
    }
   ],
   "source": [
    "slide_dir = pma_start_slide_dir\n",
    "\n",
    "print(\"Looking for slides in \" + slide_dir)\n",
    "print()\n",
    "\n",
    "for slide in core.get_slides(slide_dir):\n",
    "\tprint (slide,\" - \", core.get_fingerprint(slide))"
   ]
  },
  {
   "cell_type": "markdown",
   "metadata": {},
   "source": [
    "example 110: SlideInfo PMA.start"
   ]
  },
  {
   "cell_type": "code",
   "execution_count": 20,
   "metadata": {},
   "outputs": [
    {
     "name": "stdout",
     "output_type": "stream",
     "text": [
      "Looking for slides in C:/wsi\n",
      "\n",
      "Found SessionID: SDK.Python\n",
      "http://localhost:54001/api/json/GetFiles?sessionID=SDK.Python&path=C%3A%2Fwsi\n"
     ]
    }
   ],
   "source": [
    "slide_dir = pma_start_slide_dir\n",
    "print(\"Looking for slides in\", slide_dir)\n",
    "print()\n",
    "\n",
    "for slide in core.get_slides(slide_dir):\n",
    "    print(\"***\", slide)\n",
    "    try:\n",
    "        pp.pprint(core.get_slide_info(slide))\n",
    "    except:\n",
    "        print(\"**Unable to get slide info from this one\")"
   ]
  },
  {
   "cell_type": "markdown",
   "metadata": {},
   "source": [
    "example 115: SlideInfo on an empty file PMA.start"
   ]
  },
  {
   "cell_type": "code",
   "execution_count": 21,
   "metadata": {},
   "outputs": [
    {
     "name": "stdout",
     "output_type": "stream",
     "text": [
      "Created C:\\Users\\julka\\Music\\pma_python\\samples\\jupyter\\temp.ndpi\n",
      "Getting info on C:/Users/julka/Music/pma_python/samples/jupyter/temp.ndpi\n",
      "Found SessionID: SDK.Python\n",
      "http://localhost:54001/api/json/GetImageInfo?SessionID=SDK.Python&pathOrUid=C%3A%2FUsers%2Fjulka%2FMusic%2Fpma_python%2Fsamples%2Fjupyter%2Ftemp.ndpi\n"
     ]
    },
    {
     "ename": "Exception",
     "evalue": "ImageInfo to C:/Users/julka/Music/pma_python/samples/jupyter/temp.ndpi error",
     "output_type": "error",
     "traceback": [
      "\u001b[1;31m---------------------------------------------------------------------------\u001b[0m",
      "\u001b[1;31mException\u001b[0m                                 Traceback (most recent call last)",
      "Cell \u001b[1;32mIn[21], line 6\u001b[0m\n\u001b[0;32m      4\u001b[0m translated_path \u001b[38;5;241m=\u001b[39m slide_path\u001b[38;5;241m.\u001b[39mreplace(\u001b[38;5;124m\"\u001b[39m\u001b[38;5;130;01m\\\\\u001b[39;00m\u001b[38;5;124m\"\u001b[39m, \u001b[38;5;124m\"\u001b[39m\u001b[38;5;124m/\u001b[39m\u001b[38;5;124m\"\u001b[39m)\n\u001b[0;32m      5\u001b[0m \u001b[38;5;28mprint\u001b[39m(\u001b[38;5;124m\"\u001b[39m\u001b[38;5;124mGetting info on\u001b[39m\u001b[38;5;124m\"\u001b[39m, translated_path)\n\u001b[1;32m----> 6\u001b[0m \u001b[43mcore\u001b[49m\u001b[38;5;241;43m.\u001b[39;49m\u001b[43mget_slide_info\u001b[49m\u001b[43m(\u001b[49m\u001b[43mtranslated_path\u001b[49m\u001b[43m)\u001b[49m\n\u001b[0;32m      7\u001b[0m os\u001b[38;5;241m.\u001b[39mremove(slide_path)\n",
      "File \u001b[1;32mc:\\users\\julka\\music\\pma_python\\pma_python\\core.py:765\u001b[0m, in \u001b[0;36mget_slide_info\u001b[1;34m(slideRef, sessionID, verify)\u001b[0m\n\u001b[0;32m    763\u001b[0m r \u001b[38;5;241m=\u001b[39m requests\u001b[38;5;241m.\u001b[39mget(url, verify\u001b[38;5;241m=\u001b[39mverify)\n\u001b[0;32m    764\u001b[0m \u001b[38;5;28;01mif\u001b[39;00m r\u001b[38;5;241m.\u001b[39mstatus_code \u001b[38;5;241m!=\u001b[39m \u001b[38;5;241m200\u001b[39m:\n\u001b[1;32m--> 765\u001b[0m     \u001b[38;5;28;01mraise\u001b[39;00m \u001b[38;5;167;01mException\u001b[39;00m(\u001b[38;5;124m\"\u001b[39m\u001b[38;5;124mImageInfo to \u001b[39m\u001b[38;5;124m\"\u001b[39m \u001b[38;5;241m+\u001b[39m slideRef \u001b[38;5;241m+\u001b[39m \u001b[38;5;124m\"\u001b[39m\u001b[38;5;124m error\u001b[39m\u001b[38;5;124m\"\u001b[39m)\n\u001b[0;32m    767\u001b[0m json \u001b[38;5;241m=\u001b[39m r\u001b[38;5;241m.\u001b[39mjson()\n\u001b[0;32m    768\u001b[0m \u001b[38;5;28;01mglobal\u001b[39;00m _pma_amount_of_data_downloaded\n",
      "\u001b[1;31mException\u001b[0m: ImageInfo to C:/Users/julka/Music/pma_python/samples/jupyter/temp.ndpi error"
     ]
    }
   ],
   "source": [
    "slide_path = (os.getcwd() + \"\\\\\").replace(\"\\\\\\\\\", \"\\\\\") + \"temp.ndpi\"\n",
    "open(slide_path, 'a').close()\n",
    "print(\"Created\", slide_path)\n",
    "translated_path = slide_path.replace(\"\\\\\", \"/\")\n",
    "print(\"Getting info on\", translated_path)\n",
    "core.get_slide_info(translated_path)\n",
    "os.remove(slide_path)"
   ]
  },
  {
   "cell_type": "markdown",
   "metadata": {},
   "source": [
    "example 120: slide dimensions PMA.start"
   ]
  },
  {
   "cell_type": "code",
   "execution_count": 22,
   "metadata": {},
   "outputs": [
    {
     "name": "stdout",
     "output_type": "stream",
     "text": [
      "Found SessionID: SDK.Python\n",
      "http://localhost:54001/api/json/GetFiles?sessionID=SDK.Python&path=C%3A%2Fwsi\n"
     ]
    }
   ],
   "source": [
    "for slide in core.get_slides(pma_start_slide_dir):\n",
    "    print(\"[\" + slide + \"]\")\n",
    "    try:\n",
    "        xdim_pix, ydim_pix = core.get_pixel_dimensions(slide)\n",
    "        xdim_phys, ydim_phys = core.get_physical_dimensions(slide)\n",
    "\n",
    "        print(\"Pixel dimensions of slide: \", end=\"\")\n",
    "        print(xdim_pix, \"x\", ydim_pix)\n",
    "\n",
    "        print(\"Slide surface area represented by image: \", end=\"\")\n",
    "        print(str(xdim_phys) + \"µm x \" + str(ydim_phys) + \"µm = \", end=\"\")\n",
    "        print(xdim_phys * ydim_phys / 1E6, \" mm2\")\n",
    "        \n",
    "    except:\n",
    "        print(\"**Unable to parse\", slide)"
   ]
  },
  {
   "cell_type": "markdown",
   "metadata": {},
   "source": [
    "example 130: get all files that make up a particular slide"
   ]
  },
  {
   "cell_type": "code",
   "execution_count": null,
   "metadata": {},
   "outputs": [],
   "source": [
    "for slide in core.get_slides(pma_start_slide_dir):\n",
    "    print(slide);\n",
    "    pp.pprint(core.get_files_for_slide(slide))"
   ]
  },
  {
   "cell_type": "markdown",
   "metadata": {},
   "source": [
    "example 140: who are you in PMA.start"
   ]
  },
  {
   "cell_type": "code",
   "execution_count": null,
   "metadata": {},
   "outputs": [],
   "source": [
    "core.who_am_i()"
   ]
  },
  {
   "cell_type": "markdown",
   "metadata": {},
   "source": [
    "example 150: investigate zoomlevels PMA.start"
   ]
  },
  {
   "cell_type": "code",
   "execution_count": null,
   "metadata": {},
   "outputs": [],
   "source": [
    "for slide in core.get_slides(pma_start_slide_dir):\n",
    "    print(\"***\", slide)\n",
    "    print(\"  max zoomlevel:\", core.get_max_zoomlevel(slide))\n",
    "    print(\"  zoomlevel list:\")\n",
    "    pp.pprint(core.get_zoomlevels_list(slide))\n",
    "    print(\"  zoomlevel dictionary:\")\n",
    "    pp.pprint(core.get_zoomlevels_dict(slide))"
   ]
  },
  {
   "cell_type": "markdown",
   "metadata": {},
   "source": [
    "example 160: investigate magnification characteristics PMA.start"
   ]
  },
  {
   "cell_type": "code",
   "execution_count": null,
   "metadata": {},
   "outputs": [],
   "source": [
    "slide_dir = pma_start_slide_dir\n",
    "\n",
    "slide_infos = []     # create blank list (to be converted into a pandas DataFrame later)\n",
    "\n",
    "for slide in core.get_slides(slide_dir):\n",
    "\tdict = {\n",
    "\t\t\"slide\": core.get_slide_file_name(slide),\n",
    "\t\t\"approx_mag\": core.get_magnification(slide, exact=False),\n",
    "\t\t\"exact_mag\": core.get_magnification(slide, exact=True),\n",
    "\t\t\"is_fluo\": core.is_fluorescent(slide),\n",
    "\t\t\"is_zstack\": core.is_z_stack(slide)\n",
    "\t\t}\n",
    "\tslide_infos.append(dict)\n",
    "\t\n",
    "df_slides = pd.DataFrame(slide_infos, columns=[\"slide\",\"approx_mag\",\"exact_mag\", \"is_fluo\", \"is_zstack\"])\n",
    "print(df_slides)    "
   ]
  },
  {
   "cell_type": "markdown",
   "metadata": {},
   "source": [
    "example 170: get barcode from slide in PMA.start"
   ]
  },
  {
   "cell_type": "code",
   "execution_count": null,
   "metadata": {},
   "outputs": [],
   "source": [
    "for slide in core.get_slides(pma_start_slide_dir, recursive=True):\n",
    "    try:\n",
    "        print(slide, \" - \", core.get_barcode_text(slide))\n",
    "    except:\n",
    "        print(\"*Skipping\", slide)"
   ]
  },
  {
   "cell_type": "markdown",
   "metadata": {},
   "source": [
    "example 180: show a slide through PMA.start"
   ]
  },
  {
   "cell_type": "code",
   "execution_count": null,
   "metadata": {},
   "outputs": [],
   "source": [
    "slides = core.get_slides(pma_start_slide_dir)\n",
    "print(slides[0])\n",
    "core.show_slide(slides[0])"
   ]
  },
  {
   "cell_type": "markdown",
   "metadata": {},
   "source": [
    "example 190: slide label (URL) in PMA.start"
   ]
  },
  {
   "cell_type": "code",
   "execution_count": null,
   "metadata": {},
   "outputs": [],
   "source": [
    "all_slides = core.get_slides(pma_start_slide_dir)\n",
    "for sl in all_slides:\n",
    "    print(core.get_label_url(sl))\n",
    "plt.subplot(1, 2, 1)\n",
    "plt.imshow(core.get_label_image(all_slides[0]))\n",
    "plt.subplot(1, 2, 2)\n",
    "plt.imshow(core.get_label_image(all_slides[1]))"
   ]
  },
  {
   "cell_type": "markdown",
   "metadata": {},
   "source": [
    "example 200: slide label (URL) in PMA.start (using barcode alias methods)"
   ]
  },
  {
   "cell_type": "code",
   "execution_count": null,
   "metadata": {},
   "outputs": [],
   "source": [
    "all_slides = core.get_slides(pma_start_slide_dir)\n",
    "for sl in all_slides:\n",
    "    print(core.get_barcode_url(sl))\n",
    "plt.subplot(1, 2, 1)\n",
    "plt.imshow(core.get_barcode_image(all_slides[0]))\n",
    "plt.subplot(1, 2, 2)\n",
    "plt.imshow(core.get_barcode_image(all_slides[1]))"
   ]
  },
  {
   "cell_type": "markdown",
   "metadata": {},
   "source": [
    "example 210: thumbnail URL and image"
   ]
  },
  {
   "cell_type": "code",
   "execution_count": null,
   "metadata": {},
   "outputs": [],
   "source": [
    "all_slides = core.get_slides(pma_start_slide_dir)\n",
    "for sl in all_slides:\n",
    "    print(core.get_thumbnail_url(sl))\n",
    "plt.subplot(1, 2, 1)\n",
    "plt.imshow(core.get_thumbnail_image(all_slides[0]))\n",
    "plt.subplot(1, 2, 2)\n",
    "plt.imshow(core.get_thumbnail_image(all_slides[1]))"
   ]
  },
  {
   "cell_type": "markdown",
   "metadata": {},
   "source": [
    "Example 220: retrieving individual tiles in PMA.start"
   ]
  },
  {
   "cell_type": "code",
   "execution_count": null,
   "metadata": {},
   "outputs": [],
   "source": [
    "slides = core.get_slides(pma_start_slide_dir)\n",
    "slide = slides[0]\n",
    "for zl in range(0, core.get_max_zoomlevel(slide)):\n",
    "    (x, y, tot) = core.get_number_of_tiles(slide, zl)\n",
    "    if tot > 16 and x >= 4 and y >= 4:\n",
    "        break\n",
    "for i in range(1,17):\n",
    "    plt.subplot(4, 4, i)\n",
    "    xr = 1 + (i-1) % 4\n",
    "    yr = int((i-1) / 4) + 1\n",
    "    tile = core.get_tile(slide, xr, yr, zl)\n",
    "    plt.imshow(tile)"
   ]
  },
  {
   "cell_type": "markdown",
   "metadata": {},
   "source": [
    "example 230: searching for slides in PMA.start"
   ]
  },
  {
   "cell_type": "code",
   "execution_count": null,
   "metadata": {},
   "outputs": [],
   "source": [
    "slides = core.search_slides(pma_start_slide_dir, \"mrxs\")\n",
    "pp.pprint(slides)"
   ]
  },
  {
   "cell_type": "markdown",
   "metadata": {},
   "source": [
    "example 240: search for folders in PMA.start"
   ]
  },
  {
   "cell_type": "code",
   "execution_count": null,
   "metadata": {},
   "outputs": [],
   "source": [
    "slides = core.search_slides(pma_start_slide_dir, \"bladder\")\n",
    "pp.pprint(slides)"
   ]
  }
 ],
 "metadata": {
  "kernelspec": {
   "display_name": "Python 3 (ipykernel)",
   "language": "python",
   "name": "python3"
  },
  "language_info": {
   "codemirror_mode": {
    "name": "ipython",
    "version": 3
   },
   "file_extension": ".py",
   "mimetype": "text/x-python",
   "name": "python",
   "nbconvert_exporter": "python",
   "pygments_lexer": "ipython3",
   "version": "3.9.0"
  }
 },
 "nbformat": 4,
 "nbformat_minor": 2
}
